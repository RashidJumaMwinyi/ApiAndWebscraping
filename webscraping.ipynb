{
 "cells": [
  {
   "cell_type": "markdown",
   "metadata": {},
   "source": [
    "Importing necessary libraries"
   ]
  },
  {
   "cell_type": "code",
   "execution_count": 53,
   "metadata": {},
   "outputs": [],
   "source": [
    "import requests\n",
    "from bs4 import BeautifulSoup\n",
    "import pandas as pd\n",
    "import plotly"
   ]
  },
  {
   "cell_type": "markdown",
   "metadata": {},
   "source": [
    "## Scraping the pages"
   ]
  },
  {
   "cell_type": "code",
   "execution_count": 54,
   "metadata": {},
   "outputs": [],
   "source": [
    "def scrape_job_openings(page_num,query):\n",
    "    # query = \"Data Scientist\"\n",
    "    # page_num = 1\n",
    "\n",
    "    url = f\"https://www.jobs.ch/en/vacancies/?page={page_num}&term={query.replace(' ', '%20')}\"\n",
    "    print(url)\n",
    "\n",
    "    page = requests.get(url, timeout=2)\n",
    "    \n",
    "    soup = BeautifulSoup(page.content, \"html.parser\")\n",
    "\n",
    "    job_ads = soup.find_all('article')\n",
    "    job_dicts = []\n",
    "\n",
    "    for job in job_ads:\n",
    "        \n",
    "        job_link_tag = job.find('a',{'data-cy' : 'job-link'})\n",
    "        # title = job_link_tag.get('title')\n",
    "        url = job_link_tag.get('href')\n",
    "        \n",
    "        try:\n",
    "            location = job.find_all('p')[1].get_text()\n",
    "        except AttributeError:\n",
    "            location = None\n",
    "\n",
    "        try:\n",
    "            date = job.find_all('p')[0].get_text(';').split(';')[0]\n",
    "            # print(date)\n",
    "        except AttributeError:\n",
    "            date = None\n",
    "        try:\n",
    "            company_elem = job.find('div', {'class': 'd_grid ai_center gap_s12 grid-tc_[auto_1fr] mt_auto pt_s16'}).find_all('p', {'class':'textStyle_p2'})\n",
    "            company = company_elem[0].get_text() if company_elem else ''\n",
    "        except AttributeError:\n",
    "            company = None\n",
    "        try:\n",
    "            salary_range = job.find_all('p')[2].get_text()\n",
    "            # print(salary_range)\n",
    "        except AttributeError:\n",
    "            salary_range = None\n",
    "        try:\n",
    "            title = job.find('div', {'class': 'mb_s8'}).get_text()\n",
    "            title_parts = title.split()\n",
    "            new_title_parts = []\n",
    "            for part in title_parts:\n",
    "                if not any(char.isdigit() for char in part):\n",
    "                    new_title_parts.append(part)\n",
    "                else:\n",
    "                    break\n",
    "            title = ' '.join(new_title_parts)\n",
    "            if '(' in title or ')' in title:\n",
    "                title = title.split('(')[0].strip()\n",
    "            if not title:\n",
    "                title = None\n",
    "            # print(title)\n",
    "        except AttributeError:\n",
    "            title = None\n",
    "        \n",
    "        job_dict = {\n",
    "                    \"title\": title,\n",
    "                    'salary_range': salary_range,\n",
    "                    \"company\": company,\n",
    "                    \"location\": location,\n",
    "                    \"date\": date,\n",
    "                    \"query\": query,\n",
    "                    \"url\": url\n",
    "                }\n",
    "        \n",
    "        job_dicts.append(job_dict)\n",
    "    return job_dicts\n"
   ]
  },
  {
   "cell_type": "markdown",
   "metadata": {},
   "source": [
    "## Scrapping pages based on the number page and the keyWords"
   ]
  },
  {
   "cell_type": "code",
   "execution_count": 55,
   "metadata": {},
   "outputs": [
    {
     "name": "stdout",
     "output_type": "stream",
     "text": [
      "https://www.jobs.ch/en/vacancies/?page=1&term=Data%20Scientist\n",
      "https://www.jobs.ch/en/vacancies/?page=1&term=Data%20Analyst\n",
      "https://www.jobs.ch/en/vacancies/?page=1&term=Python%20Developer\n",
      "https://www.jobs.ch/en/vacancies/?page=1&term=Data%20Engineer\n",
      "https://www.jobs.ch/en/vacancies/?page=1&term=Data%20Manager\n",
      "https://www.jobs.ch/en/vacancies/?page=1&term=Data%20Architect\n",
      "https://www.jobs.ch/en/vacancies/?page=1&term=Big%20Data%20Analyst\n",
      "https://www.jobs.ch/en/vacancies/?page=1&term=Data%20Python\n"
     ]
    }
   ],
   "source": [
    "keywords = [\"Data Scientist\", \"Data Analyst\", \"Python Developer\", \"Data Engineer\", \"Data Manager\", \"Data Architect\", \"Big Data Analyst\", \"Data Python\"]\n",
    "df_data = {}\n",
    "\n",
    "for keyword in keywords:\n",
    "    data = scrape_job_openings(1, keyword)\n",
    "    df_data[keyword] = data\n"
   ]
  },
  {
   "cell_type": "markdown",
   "metadata": {},
   "source": [
    "## Creating a Dataframe out of the data returned in the dictionary based on keywords"
   ]
  },
  {
   "cell_type": "code",
   "execution_count": 56,
   "metadata": {},
   "outputs": [
    {
     "data": {
      "text/html": [
       "<div>\n",
       "<style scoped>\n",
       "    .dataframe tbody tr th:only-of-type {\n",
       "        vertical-align: middle;\n",
       "    }\n",
       "\n",
       "    .dataframe tbody tr th {\n",
       "        vertical-align: top;\n",
       "    }\n",
       "\n",
       "    .dataframe thead th {\n",
       "        text-align: right;\n",
       "    }\n",
       "</style>\n",
       "<table border=\"1\" class=\"dataframe\">\n",
       "  <thead>\n",
       "    <tr style=\"text-align: right;\">\n",
       "      <th></th>\n",
       "      <th>title</th>\n",
       "      <th>salary_range</th>\n",
       "      <th>company</th>\n",
       "      <th>location</th>\n",
       "      <th>date</th>\n",
       "      <th>query</th>\n",
       "      <th>url</th>\n",
       "    </tr>\n",
       "  </thead>\n",
       "  <tbody>\n",
       "    <tr>\n",
       "      <th>0</th>\n",
       "      <td>Junior Data Scientist</td>\n",
       "      <td>80 – 100%</td>\n",
       "      <td>7Days Media Services GmbH</td>\n",
       "      <td>Egerkingen</td>\n",
       "      <td>Published: 11 September 2024</td>\n",
       "      <td>Data Scientist</td>\n",
       "      <td>/en/vacancies/detail/f3f91a19-5d06-4b20-be15-c...</td>\n",
       "    </tr>\n",
       "    <tr>\n",
       "      <th>1</th>\n",
       "      <td>IT MDM Analyst Data Management</td>\n",
       "      <td>100%</td>\n",
       "      <td>Franke Group</td>\n",
       "      <td>Aarburg</td>\n",
       "      <td>Published: 21 October 2024</td>\n",
       "      <td>Data Scientist</td>\n",
       "      <td>/en/vacancies/detail/374d8592-2266-4440-9dad-d...</td>\n",
       "    </tr>\n",
       "    <tr>\n",
       "      <th>2</th>\n",
       "      <td>Intern - Technology Consulting - AI &amp; Data</td>\n",
       "      <td>100%</td>\n",
       "      <td>EY (Ernst &amp; Young AG)</td>\n",
       "      <td>Zurich</td>\n",
       "      <td>Published: 05 October 2024</td>\n",
       "      <td>Data Scientist</td>\n",
       "      <td>/en/vacancies/detail/f135255f-9e64-417c-8584-6...</td>\n",
       "    </tr>\n",
       "  </tbody>\n",
       "</table>\n",
       "</div>"
      ],
      "text/plain": [
       "                                        title salary_range  \\\n",
       "0                       Junior Data Scientist    80 – 100%   \n",
       "1              IT MDM Analyst Data Management         100%   \n",
       "2  Intern - Technology Consulting - AI & Data         100%   \n",
       "\n",
       "                     company    location                          date  \\\n",
       "0  7Days Media Services GmbH  Egerkingen  Published: 11 September 2024   \n",
       "1               Franke Group     Aarburg    Published: 21 October 2024   \n",
       "2      EY (Ernst & Young AG)      Zurich    Published: 05 October 2024   \n",
       "\n",
       "            query                                                url  \n",
       "0  Data Scientist  /en/vacancies/detail/f3f91a19-5d06-4b20-be15-c...  \n",
       "1  Data Scientist  /en/vacancies/detail/374d8592-2266-4440-9dad-d...  \n",
       "2  Data Scientist  /en/vacancies/detail/f135255f-9e64-417c-8584-6...  "
      ]
     },
     "execution_count": 56,
     "metadata": {},
     "output_type": "execute_result"
    }
   ],
   "source": [
    "df = pd.concat([pd.DataFrame(df_data[keyword]) for keyword in keywords])\n",
    "df.head(3)"
   ]
  },
  {
   "cell_type": "markdown",
   "metadata": {},
   "source": [
    "* How many jobs are shared between these categories?"
   ]
  },
  {
   "cell_type": "code",
   "execution_count": 67,
   "metadata": {},
   "outputs": [
    {
     "data": {
      "text/html": [
       "<div>\n",
       "<style scoped>\n",
       "    .dataframe tbody tr th:only-of-type {\n",
       "        vertical-align: middle;\n",
       "    }\n",
       "\n",
       "    .dataframe tbody tr th {\n",
       "        vertical-align: top;\n",
       "    }\n",
       "\n",
       "    .dataframe thead th {\n",
       "        text-align: right;\n",
       "    }\n",
       "</style>\n",
       "<table border=\"1\" class=\"dataframe\">\n",
       "  <thead>\n",
       "    <tr style=\"text-align: right;\">\n",
       "      <th></th>\n",
       "      <th>salary_range</th>\n",
       "      <th>company</th>\n",
       "      <th>location</th>\n",
       "      <th>date</th>\n",
       "      <th>query</th>\n",
       "      <th>url</th>\n",
       "    </tr>\n",
       "    <tr>\n",
       "      <th>title</th>\n",
       "      <th></th>\n",
       "      <th></th>\n",
       "      <th></th>\n",
       "      <th></th>\n",
       "      <th></th>\n",
       "      <th></th>\n",
       "    </tr>\n",
       "  </thead>\n",
       "  <tbody>\n",
       "    <tr>\n",
       "      <th>Analytics Specialist / Data Scientist</th>\n",
       "      <td>3</td>\n",
       "      <td>3</td>\n",
       "      <td>3</td>\n",
       "      <td>3</td>\n",
       "      <td>3</td>\n",
       "      <td>3</td>\n",
       "    </tr>\n",
       "    <tr>\n",
       "      <th>Central Data Agent - CDD</th>\n",
       "      <td>3</td>\n",
       "      <td>3</td>\n",
       "      <td>3</td>\n",
       "      <td>3</td>\n",
       "      <td>3</td>\n",
       "      <td>3</td>\n",
       "    </tr>\n",
       "    <tr>\n",
       "      <th>Cloud Data Platform Expert/Architect</th>\n",
       "      <td>3</td>\n",
       "      <td>3</td>\n",
       "      <td>3</td>\n",
       "      <td>3</td>\n",
       "      <td>3</td>\n",
       "      <td>3</td>\n",
       "    </tr>\n",
       "    <tr>\n",
       "      <th>Data Architect</th>\n",
       "      <td>2</td>\n",
       "      <td>2</td>\n",
       "      <td>2</td>\n",
       "      <td>2</td>\n",
       "      <td>2</td>\n",
       "      <td>2</td>\n",
       "    </tr>\n",
       "    <tr>\n",
       "      <th>Data Engineer</th>\n",
       "      <td>6</td>\n",
       "      <td>6</td>\n",
       "      <td>6</td>\n",
       "      <td>6</td>\n",
       "      <td>6</td>\n",
       "      <td>6</td>\n",
       "    </tr>\n",
       "  </tbody>\n",
       "</table>\n",
       "</div>"
      ],
      "text/plain": [
       "                                       salary_range  company  location  date  \\\n",
       "title                                                                          \n",
       "Analytics Specialist / Data Scientist             3        3         3     3   \n",
       "Central Data Agent - CDD                          3        3         3     3   \n",
       "Cloud Data Platform Expert/Architect              3        3         3     3   \n",
       "Data Architect                                    2        2         2     2   \n",
       "Data Engineer                                     6        6         6     6   \n",
       "\n",
       "                                       query  url  \n",
       "title                                              \n",
       "Analytics Specialist / Data Scientist      3    3  \n",
       "Central Data Agent - CDD                   3    3  \n",
       "Cloud Data Platform Expert/Architect       3    3  \n",
       "Data Architect                             2    2  \n",
       "Data Engineer                              6    6  "
      ]
     },
     "execution_count": 67,
     "metadata": {},
     "output_type": "execute_result"
    }
   ],
   "source": [
    "duplicates = df[df.duplicated(subset='title', keep=False)]\n",
    "grouped_data = duplicates.groupby('title').count()\n",
    "grouped_data.head()"
   ]
  },
  {
   "cell_type": "code",
   "execution_count": 85,
   "metadata": {},
   "outputs": [
    {
     "data": {
      "application/vnd.plotly.v1+json": {
       "config": {
        "plotlyServerURL": "https://plot.ly"
       },
       "data": [
        {
         "hovertemplate": "variable=salary_range<br>title=%{x}<br>value=%{y}<br>query=%{marker.size}<extra></extra>",
         "legendgroup": "salary_range",
         "marker": {
          "color": "#636efa",
          "size": [
           3,
           3,
           3,
           2,
           6,
           2,
           3,
           2,
           3,
           3,
           3,
           4,
           3,
           3,
           3,
           2,
           3,
           3,
           2,
           2,
           2,
           3,
           4,
           3,
           2,
           2,
           2
          ],
          "sizemode": "area",
          "sizeref": 0.015,
          "symbol": "circle"
         },
         "mode": "markers",
         "name": "salary_range",
         "orientation": "v",
         "showlegend": true,
         "type": "scatter",
         "x": [
          "Analytics Specialist / Data Scientist",
          "Central Data Agent - CDD",
          "Cloud Data Platform Expert/Architect",
          "Data Architect",
          "Data Engineer",
          "Data Engineer / Développeur en Business intelligence / Datawarehouse",
          "Data analyst senior",
          "Data steward",
          "Expert Monitoring & Data Analytics Claims Non-Life",
          "Fachspezialist/in internes Meldewesen",
          "Graduate Specialist Program - Supply Chain Management & Data Analytics",
          "IT Data Architect",
          "IT MDM Analyst Data Management",
          "Intern - Technology Consulting - AI & Data",
          "Junior Data Scientist",
          "Junior Python Developer",
          "Lead Data Scientist",
          "Praxisintegriertes Bachelorstudium",
          "Procurement Business Analyst",
          "Project Manager Data Science",
          "Scientific Solution Architect - Life Science Electron Microscopy",
          "Senior Data Analyst",
          "Senior Data Engineer",
          "Senior Informatica Cloud Data Quality Specialist",
          "Senior Machine Learning Engineer - Generative AI",
          "Senior Python Developer",
          "Workplace Engineer"
         ],
         "xaxis": "x",
         "y": [
          3,
          3,
          3,
          2,
          6,
          2,
          3,
          2,
          3,
          3,
          3,
          4,
          3,
          3,
          3,
          2,
          3,
          3,
          2,
          2,
          2,
          3,
          4,
          3,
          2,
          2,
          2
         ],
         "yaxis": "y"
        },
        {
         "hovertemplate": "variable=company<br>title=%{x}<br>value=%{y}<br>query=%{marker.size}<extra></extra>",
         "legendgroup": "company",
         "marker": {
          "color": "#EF553B",
          "size": [
           3,
           3,
           3,
           2,
           6,
           2,
           3,
           2,
           3,
           3,
           3,
           4,
           3,
           3,
           3,
           2,
           3,
           3,
           2,
           2,
           2,
           3,
           4,
           3,
           2,
           2,
           2
          ],
          "sizemode": "area",
          "sizeref": 0.015,
          "symbol": "circle"
         },
         "mode": "markers",
         "name": "company",
         "orientation": "v",
         "showlegend": true,
         "type": "scatter",
         "x": [
          "Analytics Specialist / Data Scientist",
          "Central Data Agent - CDD",
          "Cloud Data Platform Expert/Architect",
          "Data Architect",
          "Data Engineer",
          "Data Engineer / Développeur en Business intelligence / Datawarehouse",
          "Data analyst senior",
          "Data steward",
          "Expert Monitoring & Data Analytics Claims Non-Life",
          "Fachspezialist/in internes Meldewesen",
          "Graduate Specialist Program - Supply Chain Management & Data Analytics",
          "IT Data Architect",
          "IT MDM Analyst Data Management",
          "Intern - Technology Consulting - AI & Data",
          "Junior Data Scientist",
          "Junior Python Developer",
          "Lead Data Scientist",
          "Praxisintegriertes Bachelorstudium",
          "Procurement Business Analyst",
          "Project Manager Data Science",
          "Scientific Solution Architect - Life Science Electron Microscopy",
          "Senior Data Analyst",
          "Senior Data Engineer",
          "Senior Informatica Cloud Data Quality Specialist",
          "Senior Machine Learning Engineer - Generative AI",
          "Senior Python Developer",
          "Workplace Engineer"
         ],
         "xaxis": "x",
         "y": [
          3,
          3,
          3,
          2,
          6,
          2,
          3,
          2,
          3,
          3,
          3,
          4,
          3,
          3,
          3,
          2,
          3,
          3,
          2,
          2,
          2,
          3,
          4,
          3,
          2,
          2,
          2
         ],
         "yaxis": "y"
        },
        {
         "hovertemplate": "variable=location<br>title=%{x}<br>value=%{y}<br>query=%{marker.size}<extra></extra>",
         "legendgroup": "location",
         "marker": {
          "color": "#00cc96",
          "size": [
           3,
           3,
           3,
           2,
           6,
           2,
           3,
           2,
           3,
           3,
           3,
           4,
           3,
           3,
           3,
           2,
           3,
           3,
           2,
           2,
           2,
           3,
           4,
           3,
           2,
           2,
           2
          ],
          "sizemode": "area",
          "sizeref": 0.015,
          "symbol": "circle"
         },
         "mode": "markers",
         "name": "location",
         "orientation": "v",
         "showlegend": true,
         "type": "scatter",
         "x": [
          "Analytics Specialist / Data Scientist",
          "Central Data Agent - CDD",
          "Cloud Data Platform Expert/Architect",
          "Data Architect",
          "Data Engineer",
          "Data Engineer / Développeur en Business intelligence / Datawarehouse",
          "Data analyst senior",
          "Data steward",
          "Expert Monitoring & Data Analytics Claims Non-Life",
          "Fachspezialist/in internes Meldewesen",
          "Graduate Specialist Program - Supply Chain Management & Data Analytics",
          "IT Data Architect",
          "IT MDM Analyst Data Management",
          "Intern - Technology Consulting - AI & Data",
          "Junior Data Scientist",
          "Junior Python Developer",
          "Lead Data Scientist",
          "Praxisintegriertes Bachelorstudium",
          "Procurement Business Analyst",
          "Project Manager Data Science",
          "Scientific Solution Architect - Life Science Electron Microscopy",
          "Senior Data Analyst",
          "Senior Data Engineer",
          "Senior Informatica Cloud Data Quality Specialist",
          "Senior Machine Learning Engineer - Generative AI",
          "Senior Python Developer",
          "Workplace Engineer"
         ],
         "xaxis": "x",
         "y": [
          3,
          3,
          3,
          2,
          6,
          2,
          3,
          2,
          3,
          3,
          3,
          4,
          3,
          3,
          3,
          2,
          3,
          3,
          2,
          2,
          2,
          3,
          4,
          3,
          2,
          2,
          2
         ],
         "yaxis": "y"
        },
        {
         "hovertemplate": "variable=date<br>title=%{x}<br>value=%{y}<br>query=%{marker.size}<extra></extra>",
         "legendgroup": "date",
         "marker": {
          "color": "#ab63fa",
          "size": [
           3,
           3,
           3,
           2,
           6,
           2,
           3,
           2,
           3,
           3,
           3,
           4,
           3,
           3,
           3,
           2,
           3,
           3,
           2,
           2,
           2,
           3,
           4,
           3,
           2,
           2,
           2
          ],
          "sizemode": "area",
          "sizeref": 0.015,
          "symbol": "circle"
         },
         "mode": "markers",
         "name": "date",
         "orientation": "v",
         "showlegend": true,
         "type": "scatter",
         "x": [
          "Analytics Specialist / Data Scientist",
          "Central Data Agent - CDD",
          "Cloud Data Platform Expert/Architect",
          "Data Architect",
          "Data Engineer",
          "Data Engineer / Développeur en Business intelligence / Datawarehouse",
          "Data analyst senior",
          "Data steward",
          "Expert Monitoring & Data Analytics Claims Non-Life",
          "Fachspezialist/in internes Meldewesen",
          "Graduate Specialist Program - Supply Chain Management & Data Analytics",
          "IT Data Architect",
          "IT MDM Analyst Data Management",
          "Intern - Technology Consulting - AI & Data",
          "Junior Data Scientist",
          "Junior Python Developer",
          "Lead Data Scientist",
          "Praxisintegriertes Bachelorstudium",
          "Procurement Business Analyst",
          "Project Manager Data Science",
          "Scientific Solution Architect - Life Science Electron Microscopy",
          "Senior Data Analyst",
          "Senior Data Engineer",
          "Senior Informatica Cloud Data Quality Specialist",
          "Senior Machine Learning Engineer - Generative AI",
          "Senior Python Developer",
          "Workplace Engineer"
         ],
         "xaxis": "x",
         "y": [
          3,
          3,
          3,
          2,
          6,
          2,
          3,
          2,
          3,
          3,
          3,
          4,
          3,
          3,
          3,
          2,
          3,
          3,
          2,
          2,
          2,
          3,
          4,
          3,
          2,
          2,
          2
         ],
         "yaxis": "y"
        },
        {
         "hovertemplate": "variable=url<br>title=%{x}<br>value=%{y}<br>query=%{marker.size}<extra></extra>",
         "legendgroup": "url",
         "marker": {
          "color": "#FFA15A",
          "size": [
           3,
           3,
           3,
           2,
           6,
           2,
           3,
           2,
           3,
           3,
           3,
           4,
           3,
           3,
           3,
           2,
           3,
           3,
           2,
           2,
           2,
           3,
           4,
           3,
           2,
           2,
           2
          ],
          "sizemode": "area",
          "sizeref": 0.015,
          "symbol": "circle"
         },
         "mode": "markers",
         "name": "url",
         "orientation": "v",
         "showlegend": true,
         "type": "scatter",
         "x": [
          "Analytics Specialist / Data Scientist",
          "Central Data Agent - CDD",
          "Cloud Data Platform Expert/Architect",
          "Data Architect",
          "Data Engineer",
          "Data Engineer / Développeur en Business intelligence / Datawarehouse",
          "Data analyst senior",
          "Data steward",
          "Expert Monitoring & Data Analytics Claims Non-Life",
          "Fachspezialist/in internes Meldewesen",
          "Graduate Specialist Program - Supply Chain Management & Data Analytics",
          "IT Data Architect",
          "IT MDM Analyst Data Management",
          "Intern - Technology Consulting - AI & Data",
          "Junior Data Scientist",
          "Junior Python Developer",
          "Lead Data Scientist",
          "Praxisintegriertes Bachelorstudium",
          "Procurement Business Analyst",
          "Project Manager Data Science",
          "Scientific Solution Architect - Life Science Electron Microscopy",
          "Senior Data Analyst",
          "Senior Data Engineer",
          "Senior Informatica Cloud Data Quality Specialist",
          "Senior Machine Learning Engineer - Generative AI",
          "Senior Python Developer",
          "Workplace Engineer"
         ],
         "xaxis": "x",
         "y": [
          3,
          3,
          3,
          2,
          6,
          2,
          3,
          2,
          3,
          3,
          3,
          4,
          3,
          3,
          3,
          2,
          3,
          3,
          2,
          2,
          2,
          3,
          4,
          3,
          2,
          2,
          2
         ],
         "yaxis": "y"
        }
       ],
       "layout": {
        "legend": {
         "itemsizing": "constant",
         "title": {
          "text": "variable"
         },
         "tracegroupgap": 0
        },
        "margin": {
         "t": 60
        },
        "template": {
         "data": {
          "bar": [
           {
            "error_x": {
             "color": "#2a3f5f"
            },
            "error_y": {
             "color": "#2a3f5f"
            },
            "marker": {
             "line": {
              "color": "#E5ECF6",
              "width": 0.5
             },
             "pattern": {
              "fillmode": "overlay",
              "size": 10,
              "solidity": 0.2
             }
            },
            "type": "bar"
           }
          ],
          "barpolar": [
           {
            "marker": {
             "line": {
              "color": "#E5ECF6",
              "width": 0.5
             },
             "pattern": {
              "fillmode": "overlay",
              "size": 10,
              "solidity": 0.2
             }
            },
            "type": "barpolar"
           }
          ],
          "carpet": [
           {
            "aaxis": {
             "endlinecolor": "#2a3f5f",
             "gridcolor": "white",
             "linecolor": "white",
             "minorgridcolor": "white",
             "startlinecolor": "#2a3f5f"
            },
            "baxis": {
             "endlinecolor": "#2a3f5f",
             "gridcolor": "white",
             "linecolor": "white",
             "minorgridcolor": "white",
             "startlinecolor": "#2a3f5f"
            },
            "type": "carpet"
           }
          ],
          "choropleth": [
           {
            "colorbar": {
             "outlinewidth": 0,
             "ticks": ""
            },
            "type": "choropleth"
           }
          ],
          "contour": [
           {
            "colorbar": {
             "outlinewidth": 0,
             "ticks": ""
            },
            "colorscale": [
             [
              0,
              "#0d0887"
             ],
             [
              0.1111111111111111,
              "#46039f"
             ],
             [
              0.2222222222222222,
              "#7201a8"
             ],
             [
              0.3333333333333333,
              "#9c179e"
             ],
             [
              0.4444444444444444,
              "#bd3786"
             ],
             [
              0.5555555555555556,
              "#d8576b"
             ],
             [
              0.6666666666666666,
              "#ed7953"
             ],
             [
              0.7777777777777778,
              "#fb9f3a"
             ],
             [
              0.8888888888888888,
              "#fdca26"
             ],
             [
              1,
              "#f0f921"
             ]
            ],
            "type": "contour"
           }
          ],
          "contourcarpet": [
           {
            "colorbar": {
             "outlinewidth": 0,
             "ticks": ""
            },
            "type": "contourcarpet"
           }
          ],
          "heatmap": [
           {
            "colorbar": {
             "outlinewidth": 0,
             "ticks": ""
            },
            "colorscale": [
             [
              0,
              "#0d0887"
             ],
             [
              0.1111111111111111,
              "#46039f"
             ],
             [
              0.2222222222222222,
              "#7201a8"
             ],
             [
              0.3333333333333333,
              "#9c179e"
             ],
             [
              0.4444444444444444,
              "#bd3786"
             ],
             [
              0.5555555555555556,
              "#d8576b"
             ],
             [
              0.6666666666666666,
              "#ed7953"
             ],
             [
              0.7777777777777778,
              "#fb9f3a"
             ],
             [
              0.8888888888888888,
              "#fdca26"
             ],
             [
              1,
              "#f0f921"
             ]
            ],
            "type": "heatmap"
           }
          ],
          "heatmapgl": [
           {
            "colorbar": {
             "outlinewidth": 0,
             "ticks": ""
            },
            "colorscale": [
             [
              0,
              "#0d0887"
             ],
             [
              0.1111111111111111,
              "#46039f"
             ],
             [
              0.2222222222222222,
              "#7201a8"
             ],
             [
              0.3333333333333333,
              "#9c179e"
             ],
             [
              0.4444444444444444,
              "#bd3786"
             ],
             [
              0.5555555555555556,
              "#d8576b"
             ],
             [
              0.6666666666666666,
              "#ed7953"
             ],
             [
              0.7777777777777778,
              "#fb9f3a"
             ],
             [
              0.8888888888888888,
              "#fdca26"
             ],
             [
              1,
              "#f0f921"
             ]
            ],
            "type": "heatmapgl"
           }
          ],
          "histogram": [
           {
            "marker": {
             "pattern": {
              "fillmode": "overlay",
              "size": 10,
              "solidity": 0.2
             }
            },
            "type": "histogram"
           }
          ],
          "histogram2d": [
           {
            "colorbar": {
             "outlinewidth": 0,
             "ticks": ""
            },
            "colorscale": [
             [
              0,
              "#0d0887"
             ],
             [
              0.1111111111111111,
              "#46039f"
             ],
             [
              0.2222222222222222,
              "#7201a8"
             ],
             [
              0.3333333333333333,
              "#9c179e"
             ],
             [
              0.4444444444444444,
              "#bd3786"
             ],
             [
              0.5555555555555556,
              "#d8576b"
             ],
             [
              0.6666666666666666,
              "#ed7953"
             ],
             [
              0.7777777777777778,
              "#fb9f3a"
             ],
             [
              0.8888888888888888,
              "#fdca26"
             ],
             [
              1,
              "#f0f921"
             ]
            ],
            "type": "histogram2d"
           }
          ],
          "histogram2dcontour": [
           {
            "colorbar": {
             "outlinewidth": 0,
             "ticks": ""
            },
            "colorscale": [
             [
              0,
              "#0d0887"
             ],
             [
              0.1111111111111111,
              "#46039f"
             ],
             [
              0.2222222222222222,
              "#7201a8"
             ],
             [
              0.3333333333333333,
              "#9c179e"
             ],
             [
              0.4444444444444444,
              "#bd3786"
             ],
             [
              0.5555555555555556,
              "#d8576b"
             ],
             [
              0.6666666666666666,
              "#ed7953"
             ],
             [
              0.7777777777777778,
              "#fb9f3a"
             ],
             [
              0.8888888888888888,
              "#fdca26"
             ],
             [
              1,
              "#f0f921"
             ]
            ],
            "type": "histogram2dcontour"
           }
          ],
          "mesh3d": [
           {
            "colorbar": {
             "outlinewidth": 0,
             "ticks": ""
            },
            "type": "mesh3d"
           }
          ],
          "parcoords": [
           {
            "line": {
             "colorbar": {
              "outlinewidth": 0,
              "ticks": ""
             }
            },
            "type": "parcoords"
           }
          ],
          "pie": [
           {
            "automargin": true,
            "type": "pie"
           }
          ],
          "scatter": [
           {
            "fillpattern": {
             "fillmode": "overlay",
             "size": 10,
             "solidity": 0.2
            },
            "type": "scatter"
           }
          ],
          "scatter3d": [
           {
            "line": {
             "colorbar": {
              "outlinewidth": 0,
              "ticks": ""
             }
            },
            "marker": {
             "colorbar": {
              "outlinewidth": 0,
              "ticks": ""
             }
            },
            "type": "scatter3d"
           }
          ],
          "scattercarpet": [
           {
            "marker": {
             "colorbar": {
              "outlinewidth": 0,
              "ticks": ""
             }
            },
            "type": "scattercarpet"
           }
          ],
          "scattergeo": [
           {
            "marker": {
             "colorbar": {
              "outlinewidth": 0,
              "ticks": ""
             }
            },
            "type": "scattergeo"
           }
          ],
          "scattergl": [
           {
            "marker": {
             "colorbar": {
              "outlinewidth": 0,
              "ticks": ""
             }
            },
            "type": "scattergl"
           }
          ],
          "scattermapbox": [
           {
            "marker": {
             "colorbar": {
              "outlinewidth": 0,
              "ticks": ""
             }
            },
            "type": "scattermapbox"
           }
          ],
          "scatterpolar": [
           {
            "marker": {
             "colorbar": {
              "outlinewidth": 0,
              "ticks": ""
             }
            },
            "type": "scatterpolar"
           }
          ],
          "scatterpolargl": [
           {
            "marker": {
             "colorbar": {
              "outlinewidth": 0,
              "ticks": ""
             }
            },
            "type": "scatterpolargl"
           }
          ],
          "scatterternary": [
           {
            "marker": {
             "colorbar": {
              "outlinewidth": 0,
              "ticks": ""
             }
            },
            "type": "scatterternary"
           }
          ],
          "surface": [
           {
            "colorbar": {
             "outlinewidth": 0,
             "ticks": ""
            },
            "colorscale": [
             [
              0,
              "#0d0887"
             ],
             [
              0.1111111111111111,
              "#46039f"
             ],
             [
              0.2222222222222222,
              "#7201a8"
             ],
             [
              0.3333333333333333,
              "#9c179e"
             ],
             [
              0.4444444444444444,
              "#bd3786"
             ],
             [
              0.5555555555555556,
              "#d8576b"
             ],
             [
              0.6666666666666666,
              "#ed7953"
             ],
             [
              0.7777777777777778,
              "#fb9f3a"
             ],
             [
              0.8888888888888888,
              "#fdca26"
             ],
             [
              1,
              "#f0f921"
             ]
            ],
            "type": "surface"
           }
          ],
          "table": [
           {
            "cells": {
             "fill": {
              "color": "#EBF0F8"
             },
             "line": {
              "color": "white"
             }
            },
            "header": {
             "fill": {
              "color": "#C8D4E3"
             },
             "line": {
              "color": "white"
             }
            },
            "type": "table"
           }
          ]
         },
         "layout": {
          "annotationdefaults": {
           "arrowcolor": "#2a3f5f",
           "arrowhead": 0,
           "arrowwidth": 1
          },
          "autotypenumbers": "strict",
          "coloraxis": {
           "colorbar": {
            "outlinewidth": 0,
            "ticks": ""
           }
          },
          "colorscale": {
           "diverging": [
            [
             0,
             "#8e0152"
            ],
            [
             0.1,
             "#c51b7d"
            ],
            [
             0.2,
             "#de77ae"
            ],
            [
             0.3,
             "#f1b6da"
            ],
            [
             0.4,
             "#fde0ef"
            ],
            [
             0.5,
             "#f7f7f7"
            ],
            [
             0.6,
             "#e6f5d0"
            ],
            [
             0.7,
             "#b8e186"
            ],
            [
             0.8,
             "#7fbc41"
            ],
            [
             0.9,
             "#4d9221"
            ],
            [
             1,
             "#276419"
            ]
           ],
           "sequential": [
            [
             0,
             "#0d0887"
            ],
            [
             0.1111111111111111,
             "#46039f"
            ],
            [
             0.2222222222222222,
             "#7201a8"
            ],
            [
             0.3333333333333333,
             "#9c179e"
            ],
            [
             0.4444444444444444,
             "#bd3786"
            ],
            [
             0.5555555555555556,
             "#d8576b"
            ],
            [
             0.6666666666666666,
             "#ed7953"
            ],
            [
             0.7777777777777778,
             "#fb9f3a"
            ],
            [
             0.8888888888888888,
             "#fdca26"
            ],
            [
             1,
             "#f0f921"
            ]
           ],
           "sequentialminus": [
            [
             0,
             "#0d0887"
            ],
            [
             0.1111111111111111,
             "#46039f"
            ],
            [
             0.2222222222222222,
             "#7201a8"
            ],
            [
             0.3333333333333333,
             "#9c179e"
            ],
            [
             0.4444444444444444,
             "#bd3786"
            ],
            [
             0.5555555555555556,
             "#d8576b"
            ],
            [
             0.6666666666666666,
             "#ed7953"
            ],
            [
             0.7777777777777778,
             "#fb9f3a"
            ],
            [
             0.8888888888888888,
             "#fdca26"
            ],
            [
             1,
             "#f0f921"
            ]
           ]
          },
          "colorway": [
           "#636efa",
           "#EF553B",
           "#00cc96",
           "#ab63fa",
           "#FFA15A",
           "#19d3f3",
           "#FF6692",
           "#B6E880",
           "#FF97FF",
           "#FECB52"
          ],
          "font": {
           "color": "#2a3f5f"
          },
          "geo": {
           "bgcolor": "white",
           "lakecolor": "white",
           "landcolor": "#E5ECF6",
           "showlakes": true,
           "showland": true,
           "subunitcolor": "white"
          },
          "hoverlabel": {
           "align": "left"
          },
          "hovermode": "closest",
          "mapbox": {
           "style": "light"
          },
          "paper_bgcolor": "white",
          "plot_bgcolor": "#E5ECF6",
          "polar": {
           "angularaxis": {
            "gridcolor": "white",
            "linecolor": "white",
            "ticks": ""
           },
           "bgcolor": "#E5ECF6",
           "radialaxis": {
            "gridcolor": "white",
            "linecolor": "white",
            "ticks": ""
           }
          },
          "scene": {
           "xaxis": {
            "backgroundcolor": "#E5ECF6",
            "gridcolor": "white",
            "gridwidth": 2,
            "linecolor": "white",
            "showbackground": true,
            "ticks": "",
            "zerolinecolor": "white"
           },
           "yaxis": {
            "backgroundcolor": "#E5ECF6",
            "gridcolor": "white",
            "gridwidth": 2,
            "linecolor": "white",
            "showbackground": true,
            "ticks": "",
            "zerolinecolor": "white"
           },
           "zaxis": {
            "backgroundcolor": "#E5ECF6",
            "gridcolor": "white",
            "gridwidth": 2,
            "linecolor": "white",
            "showbackground": true,
            "ticks": "",
            "zerolinecolor": "white"
           }
          },
          "shapedefaults": {
           "line": {
            "color": "#2a3f5f"
           }
          },
          "ternary": {
           "aaxis": {
            "gridcolor": "white",
            "linecolor": "white",
            "ticks": ""
           },
           "baxis": {
            "gridcolor": "white",
            "linecolor": "white",
            "ticks": ""
           },
           "bgcolor": "#E5ECF6",
           "caxis": {
            "gridcolor": "white",
            "linecolor": "white",
            "ticks": ""
           }
          },
          "title": {
           "x": 0.05
          },
          "xaxis": {
           "automargin": true,
           "gridcolor": "white",
           "linecolor": "white",
           "ticks": "",
           "title": {
            "standoff": 15
           },
           "zerolinecolor": "white",
           "zerolinewidth": 2
          },
          "yaxis": {
           "automargin": true,
           "gridcolor": "white",
           "linecolor": "white",
           "ticks": "",
           "title": {
            "standoff": 15
           },
           "zerolinecolor": "white",
           "zerolinewidth": 2
          }
         }
        },
        "xaxis": {
         "anchor": "y",
         "domain": [
          0,
          1
         ],
         "title": {
          "text": "title"
         }
        },
        "yaxis": {
         "anchor": "x",
         "domain": [
          0,
          1
         ],
         "title": {
          "text": "value"
         }
        }
       }
      },
      "text/html": [
       "<div>                            <div id=\"67c30c6c-da37-4e2d-8a4f-702559c30978\" class=\"plotly-graph-div\" style=\"height:525px; width:100%;\"></div>            <script type=\"text/javascript\">                require([\"plotly\"], function(Plotly) {                    window.PLOTLYENV=window.PLOTLYENV || {};                                    if (document.getElementById(\"67c30c6c-da37-4e2d-8a4f-702559c30978\")) {                    Plotly.newPlot(                        \"67c30c6c-da37-4e2d-8a4f-702559c30978\",                        [{\"hovertemplate\":\"variable=salary_range\\u003cbr\\u003etitle=%{x}\\u003cbr\\u003evalue=%{y}\\u003cbr\\u003equery=%{marker.size}\\u003cextra\\u003e\\u003c\\u002fextra\\u003e\",\"legendgroup\":\"salary_range\",\"marker\":{\"color\":\"#636efa\",\"size\":[3,3,3,2,6,2,3,2,3,3,3,4,3,3,3,2,3,3,2,2,2,3,4,3,2,2,2],\"sizemode\":\"area\",\"sizeref\":0.015,\"symbol\":\"circle\"},\"mode\":\"markers\",\"name\":\"salary_range\",\"orientation\":\"v\",\"showlegend\":true,\"x\":[\"Analytics Specialist \\u002f Data Scientist\",\"Central Data Agent - CDD\",\"Cloud Data Platform Expert\\u002fArchitect\",\"Data Architect\",\"Data Engineer\",\"Data Engineer \\u002f D\\u00e9veloppeur en Business intelligence \\u002f Datawarehouse\",\"Data analyst senior\",\"Data steward\",\"Expert Monitoring & Data Analytics Claims Non-Life\",\"Fachspezialist\\u002fin internes Meldewesen\",\"Graduate Specialist Program - Supply Chain Management & Data Analytics\",\"IT Data Architect\",\"IT MDM Analyst Data Management\",\"Intern - Technology Consulting - AI & Data\",\"Junior Data Scientist\",\"Junior Python Developer\",\"Lead Data Scientist\",\"Praxisintegriertes Bachelorstudium\",\"Procurement Business Analyst\",\"Project Manager Data Science\",\"Scientific Solution Architect - Life Science Electron Microscopy\",\"Senior Data Analyst\",\"Senior Data Engineer\",\"Senior Informatica Cloud Data Quality Specialist\",\"Senior Machine Learning Engineer - Generative AI\",\"Senior Python Developer\",\"Workplace Engineer\"],\"xaxis\":\"x\",\"y\":[3,3,3,2,6,2,3,2,3,3,3,4,3,3,3,2,3,3,2,2,2,3,4,3,2,2,2],\"yaxis\":\"y\",\"type\":\"scatter\"},{\"hovertemplate\":\"variable=company\\u003cbr\\u003etitle=%{x}\\u003cbr\\u003evalue=%{y}\\u003cbr\\u003equery=%{marker.size}\\u003cextra\\u003e\\u003c\\u002fextra\\u003e\",\"legendgroup\":\"company\",\"marker\":{\"color\":\"#EF553B\",\"size\":[3,3,3,2,6,2,3,2,3,3,3,4,3,3,3,2,3,3,2,2,2,3,4,3,2,2,2],\"sizemode\":\"area\",\"sizeref\":0.015,\"symbol\":\"circle\"},\"mode\":\"markers\",\"name\":\"company\",\"orientation\":\"v\",\"showlegend\":true,\"x\":[\"Analytics Specialist \\u002f Data Scientist\",\"Central Data Agent - CDD\",\"Cloud Data Platform Expert\\u002fArchitect\",\"Data Architect\",\"Data Engineer\",\"Data Engineer \\u002f D\\u00e9veloppeur en Business intelligence \\u002f Datawarehouse\",\"Data analyst senior\",\"Data steward\",\"Expert Monitoring & Data Analytics Claims Non-Life\",\"Fachspezialist\\u002fin internes Meldewesen\",\"Graduate Specialist Program - Supply Chain Management & Data Analytics\",\"IT Data Architect\",\"IT MDM Analyst Data Management\",\"Intern - Technology Consulting - AI & Data\",\"Junior Data Scientist\",\"Junior Python Developer\",\"Lead Data Scientist\",\"Praxisintegriertes Bachelorstudium\",\"Procurement Business Analyst\",\"Project Manager Data Science\",\"Scientific Solution Architect - Life Science Electron Microscopy\",\"Senior Data Analyst\",\"Senior Data Engineer\",\"Senior Informatica Cloud Data Quality Specialist\",\"Senior Machine Learning Engineer - Generative AI\",\"Senior Python Developer\",\"Workplace Engineer\"],\"xaxis\":\"x\",\"y\":[3,3,3,2,6,2,3,2,3,3,3,4,3,3,3,2,3,3,2,2,2,3,4,3,2,2,2],\"yaxis\":\"y\",\"type\":\"scatter\"},{\"hovertemplate\":\"variable=location\\u003cbr\\u003etitle=%{x}\\u003cbr\\u003evalue=%{y}\\u003cbr\\u003equery=%{marker.size}\\u003cextra\\u003e\\u003c\\u002fextra\\u003e\",\"legendgroup\":\"location\",\"marker\":{\"color\":\"#00cc96\",\"size\":[3,3,3,2,6,2,3,2,3,3,3,4,3,3,3,2,3,3,2,2,2,3,4,3,2,2,2],\"sizemode\":\"area\",\"sizeref\":0.015,\"symbol\":\"circle\"},\"mode\":\"markers\",\"name\":\"location\",\"orientation\":\"v\",\"showlegend\":true,\"x\":[\"Analytics Specialist \\u002f Data Scientist\",\"Central Data Agent - CDD\",\"Cloud Data Platform Expert\\u002fArchitect\",\"Data Architect\",\"Data Engineer\",\"Data Engineer \\u002f D\\u00e9veloppeur en Business intelligence \\u002f Datawarehouse\",\"Data analyst senior\",\"Data steward\",\"Expert Monitoring & Data Analytics Claims Non-Life\",\"Fachspezialist\\u002fin internes Meldewesen\",\"Graduate Specialist Program - Supply Chain Management & Data Analytics\",\"IT Data Architect\",\"IT MDM Analyst Data Management\",\"Intern - Technology Consulting - AI & Data\",\"Junior Data Scientist\",\"Junior Python Developer\",\"Lead Data Scientist\",\"Praxisintegriertes Bachelorstudium\",\"Procurement Business Analyst\",\"Project Manager Data Science\",\"Scientific Solution Architect - Life Science Electron Microscopy\",\"Senior Data Analyst\",\"Senior Data Engineer\",\"Senior Informatica Cloud Data Quality Specialist\",\"Senior Machine Learning Engineer - Generative AI\",\"Senior Python Developer\",\"Workplace Engineer\"],\"xaxis\":\"x\",\"y\":[3,3,3,2,6,2,3,2,3,3,3,4,3,3,3,2,3,3,2,2,2,3,4,3,2,2,2],\"yaxis\":\"y\",\"type\":\"scatter\"},{\"hovertemplate\":\"variable=date\\u003cbr\\u003etitle=%{x}\\u003cbr\\u003evalue=%{y}\\u003cbr\\u003equery=%{marker.size}\\u003cextra\\u003e\\u003c\\u002fextra\\u003e\",\"legendgroup\":\"date\",\"marker\":{\"color\":\"#ab63fa\",\"size\":[3,3,3,2,6,2,3,2,3,3,3,4,3,3,3,2,3,3,2,2,2,3,4,3,2,2,2],\"sizemode\":\"area\",\"sizeref\":0.015,\"symbol\":\"circle\"},\"mode\":\"markers\",\"name\":\"date\",\"orientation\":\"v\",\"showlegend\":true,\"x\":[\"Analytics Specialist \\u002f Data Scientist\",\"Central Data Agent - CDD\",\"Cloud Data Platform Expert\\u002fArchitect\",\"Data Architect\",\"Data Engineer\",\"Data Engineer \\u002f D\\u00e9veloppeur en Business intelligence \\u002f Datawarehouse\",\"Data analyst senior\",\"Data steward\",\"Expert Monitoring & Data Analytics Claims Non-Life\",\"Fachspezialist\\u002fin internes Meldewesen\",\"Graduate Specialist Program - Supply Chain Management & Data Analytics\",\"IT Data Architect\",\"IT MDM Analyst Data Management\",\"Intern - Technology Consulting - AI & Data\",\"Junior Data Scientist\",\"Junior Python Developer\",\"Lead Data Scientist\",\"Praxisintegriertes Bachelorstudium\",\"Procurement Business Analyst\",\"Project Manager Data Science\",\"Scientific Solution Architect - Life Science Electron Microscopy\",\"Senior Data Analyst\",\"Senior Data Engineer\",\"Senior Informatica Cloud Data Quality Specialist\",\"Senior Machine Learning Engineer - Generative AI\",\"Senior Python Developer\",\"Workplace Engineer\"],\"xaxis\":\"x\",\"y\":[3,3,3,2,6,2,3,2,3,3,3,4,3,3,3,2,3,3,2,2,2,3,4,3,2,2,2],\"yaxis\":\"y\",\"type\":\"scatter\"},{\"hovertemplate\":\"variable=url\\u003cbr\\u003etitle=%{x}\\u003cbr\\u003evalue=%{y}\\u003cbr\\u003equery=%{marker.size}\\u003cextra\\u003e\\u003c\\u002fextra\\u003e\",\"legendgroup\":\"url\",\"marker\":{\"color\":\"#FFA15A\",\"size\":[3,3,3,2,6,2,3,2,3,3,3,4,3,3,3,2,3,3,2,2,2,3,4,3,2,2,2],\"sizemode\":\"area\",\"sizeref\":0.015,\"symbol\":\"circle\"},\"mode\":\"markers\",\"name\":\"url\",\"orientation\":\"v\",\"showlegend\":true,\"x\":[\"Analytics Specialist \\u002f Data Scientist\",\"Central Data Agent - CDD\",\"Cloud Data Platform Expert\\u002fArchitect\",\"Data Architect\",\"Data Engineer\",\"Data Engineer \\u002f D\\u00e9veloppeur en Business intelligence \\u002f Datawarehouse\",\"Data analyst senior\",\"Data steward\",\"Expert Monitoring & Data Analytics Claims Non-Life\",\"Fachspezialist\\u002fin internes Meldewesen\",\"Graduate Specialist Program - Supply Chain Management & Data Analytics\",\"IT Data Architect\",\"IT MDM Analyst Data Management\",\"Intern - Technology Consulting - AI & Data\",\"Junior Data Scientist\",\"Junior Python Developer\",\"Lead Data Scientist\",\"Praxisintegriertes Bachelorstudium\",\"Procurement Business Analyst\",\"Project Manager Data Science\",\"Scientific Solution Architect - Life Science Electron Microscopy\",\"Senior Data Analyst\",\"Senior Data Engineer\",\"Senior Informatica Cloud Data Quality Specialist\",\"Senior Machine Learning Engineer - Generative AI\",\"Senior Python Developer\",\"Workplace Engineer\"],\"xaxis\":\"x\",\"y\":[3,3,3,2,6,2,3,2,3,3,3,4,3,3,3,2,3,3,2,2,2,3,4,3,2,2,2],\"yaxis\":\"y\",\"type\":\"scatter\"}],                        {\"template\":{\"data\":{\"histogram2dcontour\":[{\"type\":\"histogram2dcontour\",\"colorbar\":{\"outlinewidth\":0,\"ticks\":\"\"},\"colorscale\":[[0.0,\"#0d0887\"],[0.1111111111111111,\"#46039f\"],[0.2222222222222222,\"#7201a8\"],[0.3333333333333333,\"#9c179e\"],[0.4444444444444444,\"#bd3786\"],[0.5555555555555556,\"#d8576b\"],[0.6666666666666666,\"#ed7953\"],[0.7777777777777778,\"#fb9f3a\"],[0.8888888888888888,\"#fdca26\"],[1.0,\"#f0f921\"]]}],\"choropleth\":[{\"type\":\"choropleth\",\"colorbar\":{\"outlinewidth\":0,\"ticks\":\"\"}}],\"histogram2d\":[{\"type\":\"histogram2d\",\"colorbar\":{\"outlinewidth\":0,\"ticks\":\"\"},\"colorscale\":[[0.0,\"#0d0887\"],[0.1111111111111111,\"#46039f\"],[0.2222222222222222,\"#7201a8\"],[0.3333333333333333,\"#9c179e\"],[0.4444444444444444,\"#bd3786\"],[0.5555555555555556,\"#d8576b\"],[0.6666666666666666,\"#ed7953\"],[0.7777777777777778,\"#fb9f3a\"],[0.8888888888888888,\"#fdca26\"],[1.0,\"#f0f921\"]]}],\"heatmap\":[{\"type\":\"heatmap\",\"colorbar\":{\"outlinewidth\":0,\"ticks\":\"\"},\"colorscale\":[[0.0,\"#0d0887\"],[0.1111111111111111,\"#46039f\"],[0.2222222222222222,\"#7201a8\"],[0.3333333333333333,\"#9c179e\"],[0.4444444444444444,\"#bd3786\"],[0.5555555555555556,\"#d8576b\"],[0.6666666666666666,\"#ed7953\"],[0.7777777777777778,\"#fb9f3a\"],[0.8888888888888888,\"#fdca26\"],[1.0,\"#f0f921\"]]}],\"heatmapgl\":[{\"type\":\"heatmapgl\",\"colorbar\":{\"outlinewidth\":0,\"ticks\":\"\"},\"colorscale\":[[0.0,\"#0d0887\"],[0.1111111111111111,\"#46039f\"],[0.2222222222222222,\"#7201a8\"],[0.3333333333333333,\"#9c179e\"],[0.4444444444444444,\"#bd3786\"],[0.5555555555555556,\"#d8576b\"],[0.6666666666666666,\"#ed7953\"],[0.7777777777777778,\"#fb9f3a\"],[0.8888888888888888,\"#fdca26\"],[1.0,\"#f0f921\"]]}],\"contourcarpet\":[{\"type\":\"contourcarpet\",\"colorbar\":{\"outlinewidth\":0,\"ticks\":\"\"}}],\"contour\":[{\"type\":\"contour\",\"colorbar\":{\"outlinewidth\":0,\"ticks\":\"\"},\"colorscale\":[[0.0,\"#0d0887\"],[0.1111111111111111,\"#46039f\"],[0.2222222222222222,\"#7201a8\"],[0.3333333333333333,\"#9c179e\"],[0.4444444444444444,\"#bd3786\"],[0.5555555555555556,\"#d8576b\"],[0.6666666666666666,\"#ed7953\"],[0.7777777777777778,\"#fb9f3a\"],[0.8888888888888888,\"#fdca26\"],[1.0,\"#f0f921\"]]}],\"surface\":[{\"type\":\"surface\",\"colorbar\":{\"outlinewidth\":0,\"ticks\":\"\"},\"colorscale\":[[0.0,\"#0d0887\"],[0.1111111111111111,\"#46039f\"],[0.2222222222222222,\"#7201a8\"],[0.3333333333333333,\"#9c179e\"],[0.4444444444444444,\"#bd3786\"],[0.5555555555555556,\"#d8576b\"],[0.6666666666666666,\"#ed7953\"],[0.7777777777777778,\"#fb9f3a\"],[0.8888888888888888,\"#fdca26\"],[1.0,\"#f0f921\"]]}],\"mesh3d\":[{\"type\":\"mesh3d\",\"colorbar\":{\"outlinewidth\":0,\"ticks\":\"\"}}],\"scatter\":[{\"fillpattern\":{\"fillmode\":\"overlay\",\"size\":10,\"solidity\":0.2},\"type\":\"scatter\"}],\"parcoords\":[{\"type\":\"parcoords\",\"line\":{\"colorbar\":{\"outlinewidth\":0,\"ticks\":\"\"}}}],\"scatterpolargl\":[{\"type\":\"scatterpolargl\",\"marker\":{\"colorbar\":{\"outlinewidth\":0,\"ticks\":\"\"}}}],\"bar\":[{\"error_x\":{\"color\":\"#2a3f5f\"},\"error_y\":{\"color\":\"#2a3f5f\"},\"marker\":{\"line\":{\"color\":\"#E5ECF6\",\"width\":0.5},\"pattern\":{\"fillmode\":\"overlay\",\"size\":10,\"solidity\":0.2}},\"type\":\"bar\"}],\"scattergeo\":[{\"type\":\"scattergeo\",\"marker\":{\"colorbar\":{\"outlinewidth\":0,\"ticks\":\"\"}}}],\"scatterpolar\":[{\"type\":\"scatterpolar\",\"marker\":{\"colorbar\":{\"outlinewidth\":0,\"ticks\":\"\"}}}],\"histogram\":[{\"marker\":{\"pattern\":{\"fillmode\":\"overlay\",\"size\":10,\"solidity\":0.2}},\"type\":\"histogram\"}],\"scattergl\":[{\"type\":\"scattergl\",\"marker\":{\"colorbar\":{\"outlinewidth\":0,\"ticks\":\"\"}}}],\"scatter3d\":[{\"type\":\"scatter3d\",\"line\":{\"colorbar\":{\"outlinewidth\":0,\"ticks\":\"\"}},\"marker\":{\"colorbar\":{\"outlinewidth\":0,\"ticks\":\"\"}}}],\"scattermapbox\":[{\"type\":\"scattermapbox\",\"marker\":{\"colorbar\":{\"outlinewidth\":0,\"ticks\":\"\"}}}],\"scatterternary\":[{\"type\":\"scatterternary\",\"marker\":{\"colorbar\":{\"outlinewidth\":0,\"ticks\":\"\"}}}],\"scattercarpet\":[{\"type\":\"scattercarpet\",\"marker\":{\"colorbar\":{\"outlinewidth\":0,\"ticks\":\"\"}}}],\"carpet\":[{\"aaxis\":{\"endlinecolor\":\"#2a3f5f\",\"gridcolor\":\"white\",\"linecolor\":\"white\",\"minorgridcolor\":\"white\",\"startlinecolor\":\"#2a3f5f\"},\"baxis\":{\"endlinecolor\":\"#2a3f5f\",\"gridcolor\":\"white\",\"linecolor\":\"white\",\"minorgridcolor\":\"white\",\"startlinecolor\":\"#2a3f5f\"},\"type\":\"carpet\"}],\"table\":[{\"cells\":{\"fill\":{\"color\":\"#EBF0F8\"},\"line\":{\"color\":\"white\"}},\"header\":{\"fill\":{\"color\":\"#C8D4E3\"},\"line\":{\"color\":\"white\"}},\"type\":\"table\"}],\"barpolar\":[{\"marker\":{\"line\":{\"color\":\"#E5ECF6\",\"width\":0.5},\"pattern\":{\"fillmode\":\"overlay\",\"size\":10,\"solidity\":0.2}},\"type\":\"barpolar\"}],\"pie\":[{\"automargin\":true,\"type\":\"pie\"}]},\"layout\":{\"autotypenumbers\":\"strict\",\"colorway\":[\"#636efa\",\"#EF553B\",\"#00cc96\",\"#ab63fa\",\"#FFA15A\",\"#19d3f3\",\"#FF6692\",\"#B6E880\",\"#FF97FF\",\"#FECB52\"],\"font\":{\"color\":\"#2a3f5f\"},\"hovermode\":\"closest\",\"hoverlabel\":{\"align\":\"left\"},\"paper_bgcolor\":\"white\",\"plot_bgcolor\":\"#E5ECF6\",\"polar\":{\"bgcolor\":\"#E5ECF6\",\"angularaxis\":{\"gridcolor\":\"white\",\"linecolor\":\"white\",\"ticks\":\"\"},\"radialaxis\":{\"gridcolor\":\"white\",\"linecolor\":\"white\",\"ticks\":\"\"}},\"ternary\":{\"bgcolor\":\"#E5ECF6\",\"aaxis\":{\"gridcolor\":\"white\",\"linecolor\":\"white\",\"ticks\":\"\"},\"baxis\":{\"gridcolor\":\"white\",\"linecolor\":\"white\",\"ticks\":\"\"},\"caxis\":{\"gridcolor\":\"white\",\"linecolor\":\"white\",\"ticks\":\"\"}},\"coloraxis\":{\"colorbar\":{\"outlinewidth\":0,\"ticks\":\"\"}},\"colorscale\":{\"sequential\":[[0.0,\"#0d0887\"],[0.1111111111111111,\"#46039f\"],[0.2222222222222222,\"#7201a8\"],[0.3333333333333333,\"#9c179e\"],[0.4444444444444444,\"#bd3786\"],[0.5555555555555556,\"#d8576b\"],[0.6666666666666666,\"#ed7953\"],[0.7777777777777778,\"#fb9f3a\"],[0.8888888888888888,\"#fdca26\"],[1.0,\"#f0f921\"]],\"sequentialminus\":[[0.0,\"#0d0887\"],[0.1111111111111111,\"#46039f\"],[0.2222222222222222,\"#7201a8\"],[0.3333333333333333,\"#9c179e\"],[0.4444444444444444,\"#bd3786\"],[0.5555555555555556,\"#d8576b\"],[0.6666666666666666,\"#ed7953\"],[0.7777777777777778,\"#fb9f3a\"],[0.8888888888888888,\"#fdca26\"],[1.0,\"#f0f921\"]],\"diverging\":[[0,\"#8e0152\"],[0.1,\"#c51b7d\"],[0.2,\"#de77ae\"],[0.3,\"#f1b6da\"],[0.4,\"#fde0ef\"],[0.5,\"#f7f7f7\"],[0.6,\"#e6f5d0\"],[0.7,\"#b8e186\"],[0.8,\"#7fbc41\"],[0.9,\"#4d9221\"],[1,\"#276419\"]]},\"xaxis\":{\"gridcolor\":\"white\",\"linecolor\":\"white\",\"ticks\":\"\",\"title\":{\"standoff\":15},\"zerolinecolor\":\"white\",\"automargin\":true,\"zerolinewidth\":2},\"yaxis\":{\"gridcolor\":\"white\",\"linecolor\":\"white\",\"ticks\":\"\",\"title\":{\"standoff\":15},\"zerolinecolor\":\"white\",\"automargin\":true,\"zerolinewidth\":2},\"scene\":{\"xaxis\":{\"backgroundcolor\":\"#E5ECF6\",\"gridcolor\":\"white\",\"linecolor\":\"white\",\"showbackground\":true,\"ticks\":\"\",\"zerolinecolor\":\"white\",\"gridwidth\":2},\"yaxis\":{\"backgroundcolor\":\"#E5ECF6\",\"gridcolor\":\"white\",\"linecolor\":\"white\",\"showbackground\":true,\"ticks\":\"\",\"zerolinecolor\":\"white\",\"gridwidth\":2},\"zaxis\":{\"backgroundcolor\":\"#E5ECF6\",\"gridcolor\":\"white\",\"linecolor\":\"white\",\"showbackground\":true,\"ticks\":\"\",\"zerolinecolor\":\"white\",\"gridwidth\":2}},\"shapedefaults\":{\"line\":{\"color\":\"#2a3f5f\"}},\"annotationdefaults\":{\"arrowcolor\":\"#2a3f5f\",\"arrowhead\":0,\"arrowwidth\":1},\"geo\":{\"bgcolor\":\"white\",\"landcolor\":\"#E5ECF6\",\"subunitcolor\":\"white\",\"showland\":true,\"showlakes\":true,\"lakecolor\":\"white\"},\"title\":{\"x\":0.05},\"mapbox\":{\"style\":\"light\"}}},\"xaxis\":{\"anchor\":\"y\",\"domain\":[0.0,1.0],\"title\":{\"text\":\"title\"}},\"yaxis\":{\"anchor\":\"x\",\"domain\":[0.0,1.0],\"title\":{\"text\":\"value\"}},\"legend\":{\"title\":{\"text\":\"variable\"},\"tracegroupgap\":0,\"itemsizing\":\"constant\"},\"margin\":{\"t\":60}},                        {\"responsive\": true}                    ).then(function(){\n",
       "                            \n",
       "var gd = document.getElementById('67c30c6c-da37-4e2d-8a4f-702559c30978');\n",
       "var x = new MutationObserver(function (mutations, observer) {{\n",
       "        var display = window.getComputedStyle(gd).display;\n",
       "        if (!display || display === 'none') {{\n",
       "            console.log([gd, 'removed!']);\n",
       "            Plotly.purge(gd);\n",
       "            observer.disconnect();\n",
       "        }}\n",
       "}});\n",
       "\n",
       "// Listen for the removal of the full notebook cells\n",
       "var notebookContainer = gd.closest('#notebook-container');\n",
       "if (notebookContainer) {{\n",
       "    x.observe(notebookContainer, {childList: true});\n",
       "}}\n",
       "\n",
       "// Listen for the clearing of the current output cell\n",
       "var outputEl = gd.closest('.output');\n",
       "if (outputEl) {{\n",
       "    x.observe(outputEl, {childList: true});\n",
       "}}\n",
       "\n",
       "                        })                };                });            </script>        </div>"
      ]
     },
     "metadata": {},
     "output_type": "display_data"
    }
   ],
   "source": [
    "import plotly.graph_objects as go\n",
    "import plotly.express as px\n",
    "\n",
    "fig = px.scatter(grouped_data,\n",
    "                #  color='salary_range',\n",
    "                 size=\"query\",#Shape of a Marker\n",
    "                 log_x=False # Sets the scale of the x-axis into linear instead of logarithmic scael\n",
    "                )\n",
    "fig.show()"
   ]
  },
  {
   "cell_type": "markdown",
   "metadata": {},
   "source": [
    "* How much the keywords: “Data Analyst” and “Big Data Analyst” overlap?\n"
   ]
  },
  {
   "cell_type": "code",
   "execution_count": null,
   "metadata": {},
   "outputs": [],
   "source": [
    "overlap_count = df[df['query'].str.contains('Data Analyst') & df['query'].str.contains('Big Data Analyst')]\n",
    "print(len(overlap_count))\n",
    "overlap_count['title']"
   ]
  },
  {
   "cell_type": "markdown",
   "metadata": {},
   "source": [
    "* Are there some companies doing more hires than average?\n"
   ]
  },
  {
   "cell_type": "code",
   "execution_count": 60,
   "metadata": {},
   "outputs": [
    {
     "name": "stdout",
     "output_type": "stream",
     "text": [
      "1.696629213483146\n"
     ]
    },
    {
     "data": {
      "text/plain": [
       "<bound method NDFrame.head of title           6\n",
       "salary_range    6\n",
       "location        6\n",
       "date            6\n",
       "query           6\n",
       "url             6\n",
       "dtype: int64>"
      ]
     },
     "execution_count": 60,
     "metadata": {},
     "output_type": "execute_result"
    }
   ],
   "source": [
    "\n",
    "# Group the DataFrame by the 'company' column and count the number of rows for each group\n",
    "company_counts = df.groupby('company').count()\n",
    "# Calculate the average number of hires per company\n",
    "avg_count = company_counts['title'].mean()\n",
    "high_hires = company_counts[(company_counts['title'] > avg_count) & (company_counts.index != '')]\n",
    "highest_company_hiring = high_hires.max()\n",
    "# print(high_hires)\n",
    "print(avg_count)\n",
    "highest_company_hiring.head\n"
   ]
  },
  {
   "cell_type": "markdown",
   "metadata": {},
   "source": [
    "* How many jobs are there in different Kantons?\n"
   ]
  },
  {
   "cell_type": "code",
   "execution_count": 61,
   "metadata": {},
   "outputs": [
    {
     "data": {
      "text/html": [
       "<div>\n",
       "<style scoped>\n",
       "    .dataframe tbody tr th:only-of-type {\n",
       "        vertical-align: middle;\n",
       "    }\n",
       "\n",
       "    .dataframe tbody tr th {\n",
       "        vertical-align: top;\n",
       "    }\n",
       "\n",
       "    .dataframe thead th {\n",
       "        text-align: right;\n",
       "    }\n",
       "</style>\n",
       "<table border=\"1\" class=\"dataframe\">\n",
       "  <thead>\n",
       "    <tr style=\"text-align: right;\">\n",
       "      <th></th>\n",
       "      <th>title</th>\n",
       "      <th>salary_range</th>\n",
       "      <th>company</th>\n",
       "      <th>date</th>\n",
       "      <th>query</th>\n",
       "      <th>url</th>\n",
       "    </tr>\n",
       "    <tr>\n",
       "      <th>location</th>\n",
       "      <th></th>\n",
       "      <th></th>\n",
       "      <th></th>\n",
       "      <th></th>\n",
       "      <th></th>\n",
       "      <th></th>\n",
       "    </tr>\n",
       "  </thead>\n",
       "  <tbody>\n",
       "    <tr>\n",
       "      <th>1007 Lausanne</th>\n",
       "      <td>2</td>\n",
       "      <td>2</td>\n",
       "      <td>2</td>\n",
       "      <td>2</td>\n",
       "      <td>2</td>\n",
       "      <td>2</td>\n",
       "    </tr>\n",
       "    <tr>\n",
       "      <th>1296 Coppet</th>\n",
       "      <td>2</td>\n",
       "      <td>2</td>\n",
       "      <td>2</td>\n",
       "      <td>2</td>\n",
       "      <td>2</td>\n",
       "      <td>2</td>\n",
       "    </tr>\n",
       "    <tr>\n",
       "      <th>Aarau</th>\n",
       "      <td>3</td>\n",
       "      <td>3</td>\n",
       "      <td>3</td>\n",
       "      <td>3</td>\n",
       "      <td>3</td>\n",
       "      <td>3</td>\n",
       "    </tr>\n",
       "    <tr>\n",
       "      <th>Aarburg</th>\n",
       "      <td>3</td>\n",
       "      <td>3</td>\n",
       "      <td>3</td>\n",
       "      <td>3</td>\n",
       "      <td>3</td>\n",
       "      <td>3</td>\n",
       "    </tr>\n",
       "    <tr>\n",
       "      <th>Adliswil</th>\n",
       "      <td>4</td>\n",
       "      <td>4</td>\n",
       "      <td>4</td>\n",
       "      <td>4</td>\n",
       "      <td>4</td>\n",
       "      <td>4</td>\n",
       "    </tr>\n",
       "  </tbody>\n",
       "</table>\n",
       "</div>"
      ],
      "text/plain": [
       "               title  salary_range  company  date  query  url\n",
       "location                                                     \n",
       "1007 Lausanne      2             2        2     2      2    2\n",
       "1296 Coppet        2             2        2     2      2    2\n",
       "Aarau              3             3        3     3      3    3\n",
       "Aarburg            3             3        3     3      3    3\n",
       "Adliswil           4             4        4     4      4    4"
      ]
     },
     "execution_count": 61,
     "metadata": {},
     "output_type": "execute_result"
    }
   ],
   "source": [
    "duplicates = df[df.duplicated(subset='location', keep=False)]\n",
    "grouped_data = duplicates.groupby('location').count()\n",
    "grouped_data.head()"
   ]
  },
  {
   "cell_type": "code",
   "execution_count": 80,
   "metadata": {},
   "outputs": [
    {
     "data": {
      "application/vnd.plotly.v1+json": {
       "config": {
        "plotlyServerURL": "https://plot.ly"
       },
       "data": [
        {
         "hovertemplate": "title=%{x}<br>value=%{y}<br>query=%{marker.size}<br>location=%{marker.color}<extra></extra>",
         "legendgroup": "",
         "marker": {
          "color": [
           3,
           3,
           3,
           2,
           6,
           2,
           3,
           2,
           3,
           3,
           3,
           4,
           3,
           3,
           3,
           2,
           3,
           3,
           2,
           2,
           2,
           3,
           4,
           3,
           2,
           2,
           2,
           3,
           3,
           3,
           2,
           6,
           2,
           3,
           2,
           3,
           3,
           3,
           4,
           3,
           3,
           3,
           2,
           3,
           3,
           2,
           2,
           2,
           3,
           4,
           3,
           2,
           2,
           2,
           3,
           3,
           3,
           2,
           6,
           2,
           3,
           2,
           3,
           3,
           3,
           4,
           3,
           3,
           3,
           2,
           3,
           3,
           2,
           2,
           2,
           3,
           4,
           3,
           2,
           2,
           2,
           3,
           3,
           3,
           2,
           6,
           2,
           3,
           2,
           3,
           3,
           3,
           4,
           3,
           3,
           3,
           2,
           3,
           3,
           2,
           2,
           2,
           3,
           4,
           3,
           2,
           2,
           2
          ],
          "coloraxis": "coloraxis",
          "size": [
           3,
           3,
           3,
           2,
           6,
           2,
           3,
           2,
           3,
           3,
           3,
           4,
           3,
           3,
           3,
           2,
           3,
           3,
           2,
           2,
           2,
           3,
           4,
           3,
           2,
           2,
           2,
           3,
           3,
           3,
           2,
           6,
           2,
           3,
           2,
           3,
           3,
           3,
           4,
           3,
           3,
           3,
           2,
           3,
           3,
           2,
           2,
           2,
           3,
           4,
           3,
           2,
           2,
           2,
           3,
           3,
           3,
           2,
           6,
           2,
           3,
           2,
           3,
           3,
           3,
           4,
           3,
           3,
           3,
           2,
           3,
           3,
           2,
           2,
           2,
           3,
           4,
           3,
           2,
           2,
           2,
           3,
           3,
           3,
           2,
           6,
           2,
           3,
           2,
           3,
           3,
           3,
           4,
           3,
           3,
           3,
           2,
           3,
           3,
           2,
           2,
           2,
           3,
           4,
           3,
           2,
           2,
           2
          ],
          "sizemode": "area",
          "sizeref": 0.1,
          "symbol": "circle"
         },
         "mode": "markers",
         "name": "",
         "orientation": "v",
         "showlegend": false,
         "type": "scatter",
         "x": [
          "Analytics Specialist / Data Scientist",
          "Central Data Agent - CDD",
          "Cloud Data Platform Expert/Architect",
          "Data Architect",
          "Data Engineer",
          "Data Engineer / Développeur en Business intelligence / Datawarehouse",
          "Data analyst senior",
          "Data steward",
          "Expert Monitoring & Data Analytics Claims Non-Life",
          "Fachspezialist/in internes Meldewesen",
          "Graduate Specialist Program - Supply Chain Management & Data Analytics",
          "IT Data Architect",
          "IT MDM Analyst Data Management",
          "Intern - Technology Consulting - AI & Data",
          "Junior Data Scientist",
          "Junior Python Developer",
          "Lead Data Scientist",
          "Praxisintegriertes Bachelorstudium",
          "Procurement Business Analyst",
          "Project Manager Data Science",
          "Scientific Solution Architect - Life Science Electron Microscopy",
          "Senior Data Analyst",
          "Senior Data Engineer",
          "Senior Informatica Cloud Data Quality Specialist",
          "Senior Machine Learning Engineer - Generative AI",
          "Senior Python Developer",
          "Workplace Engineer",
          "Analytics Specialist / Data Scientist",
          "Central Data Agent - CDD",
          "Cloud Data Platform Expert/Architect",
          "Data Architect",
          "Data Engineer",
          "Data Engineer / Développeur en Business intelligence / Datawarehouse",
          "Data analyst senior",
          "Data steward",
          "Expert Monitoring & Data Analytics Claims Non-Life",
          "Fachspezialist/in internes Meldewesen",
          "Graduate Specialist Program - Supply Chain Management & Data Analytics",
          "IT Data Architect",
          "IT MDM Analyst Data Management",
          "Intern - Technology Consulting - AI & Data",
          "Junior Data Scientist",
          "Junior Python Developer",
          "Lead Data Scientist",
          "Praxisintegriertes Bachelorstudium",
          "Procurement Business Analyst",
          "Project Manager Data Science",
          "Scientific Solution Architect - Life Science Electron Microscopy",
          "Senior Data Analyst",
          "Senior Data Engineer",
          "Senior Informatica Cloud Data Quality Specialist",
          "Senior Machine Learning Engineer - Generative AI",
          "Senior Python Developer",
          "Workplace Engineer",
          "Analytics Specialist / Data Scientist",
          "Central Data Agent - CDD",
          "Cloud Data Platform Expert/Architect",
          "Data Architect",
          "Data Engineer",
          "Data Engineer / Développeur en Business intelligence / Datawarehouse",
          "Data analyst senior",
          "Data steward",
          "Expert Monitoring & Data Analytics Claims Non-Life",
          "Fachspezialist/in internes Meldewesen",
          "Graduate Specialist Program - Supply Chain Management & Data Analytics",
          "IT Data Architect",
          "IT MDM Analyst Data Management",
          "Intern - Technology Consulting - AI & Data",
          "Junior Data Scientist",
          "Junior Python Developer",
          "Lead Data Scientist",
          "Praxisintegriertes Bachelorstudium",
          "Procurement Business Analyst",
          "Project Manager Data Science",
          "Scientific Solution Architect - Life Science Electron Microscopy",
          "Senior Data Analyst",
          "Senior Data Engineer",
          "Senior Informatica Cloud Data Quality Specialist",
          "Senior Machine Learning Engineer - Generative AI",
          "Senior Python Developer",
          "Workplace Engineer",
          "Analytics Specialist / Data Scientist",
          "Central Data Agent - CDD",
          "Cloud Data Platform Expert/Architect",
          "Data Architect",
          "Data Engineer",
          "Data Engineer / Développeur en Business intelligence / Datawarehouse",
          "Data analyst senior",
          "Data steward",
          "Expert Monitoring & Data Analytics Claims Non-Life",
          "Fachspezialist/in internes Meldewesen",
          "Graduate Specialist Program - Supply Chain Management & Data Analytics",
          "IT Data Architect",
          "IT MDM Analyst Data Management",
          "Intern - Technology Consulting - AI & Data",
          "Junior Data Scientist",
          "Junior Python Developer",
          "Lead Data Scientist",
          "Praxisintegriertes Bachelorstudium",
          "Procurement Business Analyst",
          "Project Manager Data Science",
          "Scientific Solution Architect - Life Science Electron Microscopy",
          "Senior Data Analyst",
          "Senior Data Engineer",
          "Senior Informatica Cloud Data Quality Specialist",
          "Senior Machine Learning Engineer - Generative AI",
          "Senior Python Developer",
          "Workplace Engineer"
         ],
         "xaxis": "x",
         "y": [
          3,
          3,
          3,
          2,
          6,
          2,
          3,
          2,
          3,
          3,
          3,
          4,
          3,
          3,
          3,
          2,
          3,
          3,
          2,
          2,
          2,
          3,
          4,
          3,
          2,
          2,
          2,
          3,
          3,
          3,
          2,
          6,
          2,
          3,
          2,
          3,
          3,
          3,
          4,
          3,
          3,
          3,
          2,
          3,
          3,
          2,
          2,
          2,
          3,
          4,
          3,
          2,
          2,
          2,
          3,
          3,
          3,
          2,
          6,
          2,
          3,
          2,
          3,
          3,
          3,
          4,
          3,
          3,
          3,
          2,
          3,
          3,
          2,
          2,
          2,
          3,
          4,
          3,
          2,
          2,
          2,
          3,
          3,
          3,
          2,
          6,
          2,
          3,
          2,
          3,
          3,
          3,
          4,
          3,
          3,
          3,
          2,
          3,
          3,
          2,
          2,
          2,
          3,
          4,
          3,
          2,
          2,
          2
         ],
         "yaxis": "y"
        }
       ],
       "layout": {
        "coloraxis": {
         "colorbar": {
          "title": {
           "text": "location"
          }
         },
         "colorscale": [
          [
           0,
           "#0d0887"
          ],
          [
           0.1111111111111111,
           "#46039f"
          ],
          [
           0.2222222222222222,
           "#7201a8"
          ],
          [
           0.3333333333333333,
           "#9c179e"
          ],
          [
           0.4444444444444444,
           "#bd3786"
          ],
          [
           0.5555555555555556,
           "#d8576b"
          ],
          [
           0.6666666666666666,
           "#ed7953"
          ],
          [
           0.7777777777777778,
           "#fb9f3a"
          ],
          [
           0.8888888888888888,
           "#fdca26"
          ],
          [
           1,
           "#f0f921"
          ]
         ]
        },
        "legend": {
         "itemsizing": "constant",
         "tracegroupgap": 0
        },
        "margin": {
         "t": 60
        },
        "template": {
         "data": {
          "bar": [
           {
            "error_x": {
             "color": "#2a3f5f"
            },
            "error_y": {
             "color": "#2a3f5f"
            },
            "marker": {
             "line": {
              "color": "#E5ECF6",
              "width": 0.5
             },
             "pattern": {
              "fillmode": "overlay",
              "size": 10,
              "solidity": 0.2
             }
            },
            "type": "bar"
           }
          ],
          "barpolar": [
           {
            "marker": {
             "line": {
              "color": "#E5ECF6",
              "width": 0.5
             },
             "pattern": {
              "fillmode": "overlay",
              "size": 10,
              "solidity": 0.2
             }
            },
            "type": "barpolar"
           }
          ],
          "carpet": [
           {
            "aaxis": {
             "endlinecolor": "#2a3f5f",
             "gridcolor": "white",
             "linecolor": "white",
             "minorgridcolor": "white",
             "startlinecolor": "#2a3f5f"
            },
            "baxis": {
             "endlinecolor": "#2a3f5f",
             "gridcolor": "white",
             "linecolor": "white",
             "minorgridcolor": "white",
             "startlinecolor": "#2a3f5f"
            },
            "type": "carpet"
           }
          ],
          "choropleth": [
           {
            "colorbar": {
             "outlinewidth": 0,
             "ticks": ""
            },
            "type": "choropleth"
           }
          ],
          "contour": [
           {
            "colorbar": {
             "outlinewidth": 0,
             "ticks": ""
            },
            "colorscale": [
             [
              0,
              "#0d0887"
             ],
             [
              0.1111111111111111,
              "#46039f"
             ],
             [
              0.2222222222222222,
              "#7201a8"
             ],
             [
              0.3333333333333333,
              "#9c179e"
             ],
             [
              0.4444444444444444,
              "#bd3786"
             ],
             [
              0.5555555555555556,
              "#d8576b"
             ],
             [
              0.6666666666666666,
              "#ed7953"
             ],
             [
              0.7777777777777778,
              "#fb9f3a"
             ],
             [
              0.8888888888888888,
              "#fdca26"
             ],
             [
              1,
              "#f0f921"
             ]
            ],
            "type": "contour"
           }
          ],
          "contourcarpet": [
           {
            "colorbar": {
             "outlinewidth": 0,
             "ticks": ""
            },
            "type": "contourcarpet"
           }
          ],
          "heatmap": [
           {
            "colorbar": {
             "outlinewidth": 0,
             "ticks": ""
            },
            "colorscale": [
             [
              0,
              "#0d0887"
             ],
             [
              0.1111111111111111,
              "#46039f"
             ],
             [
              0.2222222222222222,
              "#7201a8"
             ],
             [
              0.3333333333333333,
              "#9c179e"
             ],
             [
              0.4444444444444444,
              "#bd3786"
             ],
             [
              0.5555555555555556,
              "#d8576b"
             ],
             [
              0.6666666666666666,
              "#ed7953"
             ],
             [
              0.7777777777777778,
              "#fb9f3a"
             ],
             [
              0.8888888888888888,
              "#fdca26"
             ],
             [
              1,
              "#f0f921"
             ]
            ],
            "type": "heatmap"
           }
          ],
          "heatmapgl": [
           {
            "colorbar": {
             "outlinewidth": 0,
             "ticks": ""
            },
            "colorscale": [
             [
              0,
              "#0d0887"
             ],
             [
              0.1111111111111111,
              "#46039f"
             ],
             [
              0.2222222222222222,
              "#7201a8"
             ],
             [
              0.3333333333333333,
              "#9c179e"
             ],
             [
              0.4444444444444444,
              "#bd3786"
             ],
             [
              0.5555555555555556,
              "#d8576b"
             ],
             [
              0.6666666666666666,
              "#ed7953"
             ],
             [
              0.7777777777777778,
              "#fb9f3a"
             ],
             [
              0.8888888888888888,
              "#fdca26"
             ],
             [
              1,
              "#f0f921"
             ]
            ],
            "type": "heatmapgl"
           }
          ],
          "histogram": [
           {
            "marker": {
             "pattern": {
              "fillmode": "overlay",
              "size": 10,
              "solidity": 0.2
             }
            },
            "type": "histogram"
           }
          ],
          "histogram2d": [
           {
            "colorbar": {
             "outlinewidth": 0,
             "ticks": ""
            },
            "colorscale": [
             [
              0,
              "#0d0887"
             ],
             [
              0.1111111111111111,
              "#46039f"
             ],
             [
              0.2222222222222222,
              "#7201a8"
             ],
             [
              0.3333333333333333,
              "#9c179e"
             ],
             [
              0.4444444444444444,
              "#bd3786"
             ],
             [
              0.5555555555555556,
              "#d8576b"
             ],
             [
              0.6666666666666666,
              "#ed7953"
             ],
             [
              0.7777777777777778,
              "#fb9f3a"
             ],
             [
              0.8888888888888888,
              "#fdca26"
             ],
             [
              1,
              "#f0f921"
             ]
            ],
            "type": "histogram2d"
           }
          ],
          "histogram2dcontour": [
           {
            "colorbar": {
             "outlinewidth": 0,
             "ticks": ""
            },
            "colorscale": [
             [
              0,
              "#0d0887"
             ],
             [
              0.1111111111111111,
              "#46039f"
             ],
             [
              0.2222222222222222,
              "#7201a8"
             ],
             [
              0.3333333333333333,
              "#9c179e"
             ],
             [
              0.4444444444444444,
              "#bd3786"
             ],
             [
              0.5555555555555556,
              "#d8576b"
             ],
             [
              0.6666666666666666,
              "#ed7953"
             ],
             [
              0.7777777777777778,
              "#fb9f3a"
             ],
             [
              0.8888888888888888,
              "#fdca26"
             ],
             [
              1,
              "#f0f921"
             ]
            ],
            "type": "histogram2dcontour"
           }
          ],
          "mesh3d": [
           {
            "colorbar": {
             "outlinewidth": 0,
             "ticks": ""
            },
            "type": "mesh3d"
           }
          ],
          "parcoords": [
           {
            "line": {
             "colorbar": {
              "outlinewidth": 0,
              "ticks": ""
             }
            },
            "type": "parcoords"
           }
          ],
          "pie": [
           {
            "automargin": true,
            "type": "pie"
           }
          ],
          "scatter": [
           {
            "fillpattern": {
             "fillmode": "overlay",
             "size": 10,
             "solidity": 0.2
            },
            "type": "scatter"
           }
          ],
          "scatter3d": [
           {
            "line": {
             "colorbar": {
              "outlinewidth": 0,
              "ticks": ""
             }
            },
            "marker": {
             "colorbar": {
              "outlinewidth": 0,
              "ticks": ""
             }
            },
            "type": "scatter3d"
           }
          ],
          "scattercarpet": [
           {
            "marker": {
             "colorbar": {
              "outlinewidth": 0,
              "ticks": ""
             }
            },
            "type": "scattercarpet"
           }
          ],
          "scattergeo": [
           {
            "marker": {
             "colorbar": {
              "outlinewidth": 0,
              "ticks": ""
             }
            },
            "type": "scattergeo"
           }
          ],
          "scattergl": [
           {
            "marker": {
             "colorbar": {
              "outlinewidth": 0,
              "ticks": ""
             }
            },
            "type": "scattergl"
           }
          ],
          "scattermapbox": [
           {
            "marker": {
             "colorbar": {
              "outlinewidth": 0,
              "ticks": ""
             }
            },
            "type": "scattermapbox"
           }
          ],
          "scatterpolar": [
           {
            "marker": {
             "colorbar": {
              "outlinewidth": 0,
              "ticks": ""
             }
            },
            "type": "scatterpolar"
           }
          ],
          "scatterpolargl": [
           {
            "marker": {
             "colorbar": {
              "outlinewidth": 0,
              "ticks": ""
             }
            },
            "type": "scatterpolargl"
           }
          ],
          "scatterternary": [
           {
            "marker": {
             "colorbar": {
              "outlinewidth": 0,
              "ticks": ""
             }
            },
            "type": "scatterternary"
           }
          ],
          "surface": [
           {
            "colorbar": {
             "outlinewidth": 0,
             "ticks": ""
            },
            "colorscale": [
             [
              0,
              "#0d0887"
             ],
             [
              0.1111111111111111,
              "#46039f"
             ],
             [
              0.2222222222222222,
              "#7201a8"
             ],
             [
              0.3333333333333333,
              "#9c179e"
             ],
             [
              0.4444444444444444,
              "#bd3786"
             ],
             [
              0.5555555555555556,
              "#d8576b"
             ],
             [
              0.6666666666666666,
              "#ed7953"
             ],
             [
              0.7777777777777778,
              "#fb9f3a"
             ],
             [
              0.8888888888888888,
              "#fdca26"
             ],
             [
              1,
              "#f0f921"
             ]
            ],
            "type": "surface"
           }
          ],
          "table": [
           {
            "cells": {
             "fill": {
              "color": "#EBF0F8"
             },
             "line": {
              "color": "white"
             }
            },
            "header": {
             "fill": {
              "color": "#C8D4E3"
             },
             "line": {
              "color": "white"
             }
            },
            "type": "table"
           }
          ]
         },
         "layout": {
          "annotationdefaults": {
           "arrowcolor": "#2a3f5f",
           "arrowhead": 0,
           "arrowwidth": 1
          },
          "autotypenumbers": "strict",
          "coloraxis": {
           "colorbar": {
            "outlinewidth": 0,
            "ticks": ""
           }
          },
          "colorscale": {
           "diverging": [
            [
             0,
             "#8e0152"
            ],
            [
             0.1,
             "#c51b7d"
            ],
            [
             0.2,
             "#de77ae"
            ],
            [
             0.3,
             "#f1b6da"
            ],
            [
             0.4,
             "#fde0ef"
            ],
            [
             0.5,
             "#f7f7f7"
            ],
            [
             0.6,
             "#e6f5d0"
            ],
            [
             0.7,
             "#b8e186"
            ],
            [
             0.8,
             "#7fbc41"
            ],
            [
             0.9,
             "#4d9221"
            ],
            [
             1,
             "#276419"
            ]
           ],
           "sequential": [
            [
             0,
             "#0d0887"
            ],
            [
             0.1111111111111111,
             "#46039f"
            ],
            [
             0.2222222222222222,
             "#7201a8"
            ],
            [
             0.3333333333333333,
             "#9c179e"
            ],
            [
             0.4444444444444444,
             "#bd3786"
            ],
            [
             0.5555555555555556,
             "#d8576b"
            ],
            [
             0.6666666666666666,
             "#ed7953"
            ],
            [
             0.7777777777777778,
             "#fb9f3a"
            ],
            [
             0.8888888888888888,
             "#fdca26"
            ],
            [
             1,
             "#f0f921"
            ]
           ],
           "sequentialminus": [
            [
             0,
             "#0d0887"
            ],
            [
             0.1111111111111111,
             "#46039f"
            ],
            [
             0.2222222222222222,
             "#7201a8"
            ],
            [
             0.3333333333333333,
             "#9c179e"
            ],
            [
             0.4444444444444444,
             "#bd3786"
            ],
            [
             0.5555555555555556,
             "#d8576b"
            ],
            [
             0.6666666666666666,
             "#ed7953"
            ],
            [
             0.7777777777777778,
             "#fb9f3a"
            ],
            [
             0.8888888888888888,
             "#fdca26"
            ],
            [
             1,
             "#f0f921"
            ]
           ]
          },
          "colorway": [
           "#636efa",
           "#EF553B",
           "#00cc96",
           "#ab63fa",
           "#FFA15A",
           "#19d3f3",
           "#FF6692",
           "#B6E880",
           "#FF97FF",
           "#FECB52"
          ],
          "font": {
           "color": "#2a3f5f"
          },
          "geo": {
           "bgcolor": "white",
           "lakecolor": "white",
           "landcolor": "#E5ECF6",
           "showlakes": true,
           "showland": true,
           "subunitcolor": "white"
          },
          "hoverlabel": {
           "align": "left"
          },
          "hovermode": "closest",
          "mapbox": {
           "style": "light"
          },
          "paper_bgcolor": "white",
          "plot_bgcolor": "#E5ECF6",
          "polar": {
           "angularaxis": {
            "gridcolor": "white",
            "linecolor": "white",
            "ticks": ""
           },
           "bgcolor": "#E5ECF6",
           "radialaxis": {
            "gridcolor": "white",
            "linecolor": "white",
            "ticks": ""
           }
          },
          "scene": {
           "xaxis": {
            "backgroundcolor": "#E5ECF6",
            "gridcolor": "white",
            "gridwidth": 2,
            "linecolor": "white",
            "showbackground": true,
            "ticks": "",
            "zerolinecolor": "white"
           },
           "yaxis": {
            "backgroundcolor": "#E5ECF6",
            "gridcolor": "white",
            "gridwidth": 2,
            "linecolor": "white",
            "showbackground": true,
            "ticks": "",
            "zerolinecolor": "white"
           },
           "zaxis": {
            "backgroundcolor": "#E5ECF6",
            "gridcolor": "white",
            "gridwidth": 2,
            "linecolor": "white",
            "showbackground": true,
            "ticks": "",
            "zerolinecolor": "white"
           }
          },
          "shapedefaults": {
           "line": {
            "color": "#2a3f5f"
           }
          },
          "ternary": {
           "aaxis": {
            "gridcolor": "white",
            "linecolor": "white",
            "ticks": ""
           },
           "baxis": {
            "gridcolor": "white",
            "linecolor": "white",
            "ticks": ""
           },
           "bgcolor": "#E5ECF6",
           "caxis": {
            "gridcolor": "white",
            "linecolor": "white",
            "ticks": ""
           }
          },
          "title": {
           "x": 0.05
          },
          "xaxis": {
           "automargin": true,
           "gridcolor": "white",
           "linecolor": "white",
           "ticks": "",
           "title": {
            "standoff": 15
           },
           "zerolinecolor": "white",
           "zerolinewidth": 2
          },
          "yaxis": {
           "automargin": true,
           "gridcolor": "white",
           "linecolor": "white",
           "ticks": "",
           "title": {
            "standoff": 15
           },
           "zerolinecolor": "white",
           "zerolinewidth": 2
          }
         }
        },
        "title": {
         "text": "Jobs in different Cantons"
        },
        "xaxis": {
         "anchor": "y",
         "domain": [
          0,
          1
         ],
         "title": {
          "text": "title"
         }
        },
        "yaxis": {
         "anchor": "x",
         "domain": [
          0,
          1
         ],
         "title": {
          "text": "value"
         }
        }
       }
      },
      "text/html": [
       "<div>                            <div id=\"28ef4032-288c-41f0-8b22-60d8956b7eeb\" class=\"plotly-graph-div\" style=\"height:525px; width:100%;\"></div>            <script type=\"text/javascript\">                require([\"plotly\"], function(Plotly) {                    window.PLOTLYENV=window.PLOTLYENV || {};                                    if (document.getElementById(\"28ef4032-288c-41f0-8b22-60d8956b7eeb\")) {                    Plotly.newPlot(                        \"28ef4032-288c-41f0-8b22-60d8956b7eeb\",                        [{\"hovertemplate\":\"title=%{x}\\u003cbr\\u003evalue=%{y}\\u003cbr\\u003equery=%{marker.size}\\u003cbr\\u003elocation=%{marker.color}\\u003cextra\\u003e\\u003c\\u002fextra\\u003e\",\"legendgroup\":\"\",\"marker\":{\"color\":[3,3,3,2,6,2,3,2,3,3,3,4,3,3,3,2,3,3,2,2,2,3,4,3,2,2,2,3,3,3,2,6,2,3,2,3,3,3,4,3,3,3,2,3,3,2,2,2,3,4,3,2,2,2,3,3,3,2,6,2,3,2,3,3,3,4,3,3,3,2,3,3,2,2,2,3,4,3,2,2,2,3,3,3,2,6,2,3,2,3,3,3,4,3,3,3,2,3,3,2,2,2,3,4,3,2,2,2],\"coloraxis\":\"coloraxis\",\"size\":[3,3,3,2,6,2,3,2,3,3,3,4,3,3,3,2,3,3,2,2,2,3,4,3,2,2,2,3,3,3,2,6,2,3,2,3,3,3,4,3,3,3,2,3,3,2,2,2,3,4,3,2,2,2,3,3,3,2,6,2,3,2,3,3,3,4,3,3,3,2,3,3,2,2,2,3,4,3,2,2,2,3,3,3,2,6,2,3,2,3,3,3,4,3,3,3,2,3,3,2,2,2,3,4,3,2,2,2],\"sizemode\":\"area\",\"sizeref\":0.1,\"symbol\":\"circle\"},\"mode\":\"markers\",\"name\":\"\",\"orientation\":\"v\",\"showlegend\":false,\"x\":[\"Analytics Specialist \\u002f Data Scientist\",\"Central Data Agent - CDD\",\"Cloud Data Platform Expert\\u002fArchitect\",\"Data Architect\",\"Data Engineer\",\"Data Engineer \\u002f D\\u00e9veloppeur en Business intelligence \\u002f Datawarehouse\",\"Data analyst senior\",\"Data steward\",\"Expert Monitoring & Data Analytics Claims Non-Life\",\"Fachspezialist\\u002fin internes Meldewesen\",\"Graduate Specialist Program - Supply Chain Management & Data Analytics\",\"IT Data Architect\",\"IT MDM Analyst Data Management\",\"Intern - Technology Consulting - AI & Data\",\"Junior Data Scientist\",\"Junior Python Developer\",\"Lead Data Scientist\",\"Praxisintegriertes Bachelorstudium\",\"Procurement Business Analyst\",\"Project Manager Data Science\",\"Scientific Solution Architect - Life Science Electron Microscopy\",\"Senior Data Analyst\",\"Senior Data Engineer\",\"Senior Informatica Cloud Data Quality Specialist\",\"Senior Machine Learning Engineer - Generative AI\",\"Senior Python Developer\",\"Workplace Engineer\",\"Analytics Specialist \\u002f Data Scientist\",\"Central Data Agent - CDD\",\"Cloud Data Platform Expert\\u002fArchitect\",\"Data Architect\",\"Data Engineer\",\"Data Engineer \\u002f D\\u00e9veloppeur en Business intelligence \\u002f Datawarehouse\",\"Data analyst senior\",\"Data steward\",\"Expert Monitoring & Data Analytics Claims Non-Life\",\"Fachspezialist\\u002fin internes Meldewesen\",\"Graduate Specialist Program - Supply Chain Management & Data Analytics\",\"IT Data Architect\",\"IT MDM Analyst Data Management\",\"Intern - Technology Consulting - AI & Data\",\"Junior Data Scientist\",\"Junior Python Developer\",\"Lead Data Scientist\",\"Praxisintegriertes Bachelorstudium\",\"Procurement Business Analyst\",\"Project Manager Data Science\",\"Scientific Solution Architect - Life Science Electron Microscopy\",\"Senior Data Analyst\",\"Senior Data Engineer\",\"Senior Informatica Cloud Data Quality Specialist\",\"Senior Machine Learning Engineer - Generative AI\",\"Senior Python Developer\",\"Workplace Engineer\",\"Analytics Specialist \\u002f Data Scientist\",\"Central Data Agent - CDD\",\"Cloud Data Platform Expert\\u002fArchitect\",\"Data Architect\",\"Data Engineer\",\"Data Engineer \\u002f D\\u00e9veloppeur en Business intelligence \\u002f Datawarehouse\",\"Data analyst senior\",\"Data steward\",\"Expert Monitoring & Data Analytics Claims Non-Life\",\"Fachspezialist\\u002fin internes Meldewesen\",\"Graduate Specialist Program - Supply Chain Management & Data Analytics\",\"IT Data Architect\",\"IT MDM Analyst Data Management\",\"Intern - Technology Consulting - AI & Data\",\"Junior Data Scientist\",\"Junior Python Developer\",\"Lead Data Scientist\",\"Praxisintegriertes Bachelorstudium\",\"Procurement Business Analyst\",\"Project Manager Data Science\",\"Scientific Solution Architect - Life Science Electron Microscopy\",\"Senior Data Analyst\",\"Senior Data Engineer\",\"Senior Informatica Cloud Data Quality Specialist\",\"Senior Machine Learning Engineer - Generative AI\",\"Senior Python Developer\",\"Workplace Engineer\",\"Analytics Specialist \\u002f Data Scientist\",\"Central Data Agent - CDD\",\"Cloud Data Platform Expert\\u002fArchitect\",\"Data Architect\",\"Data Engineer\",\"Data Engineer \\u002f D\\u00e9veloppeur en Business intelligence \\u002f Datawarehouse\",\"Data analyst senior\",\"Data steward\",\"Expert Monitoring & Data Analytics Claims Non-Life\",\"Fachspezialist\\u002fin internes Meldewesen\",\"Graduate Specialist Program - Supply Chain Management & Data Analytics\",\"IT Data Architect\",\"IT MDM Analyst Data Management\",\"Intern - Technology Consulting - AI & Data\",\"Junior Data Scientist\",\"Junior Python Developer\",\"Lead Data Scientist\",\"Praxisintegriertes Bachelorstudium\",\"Procurement Business Analyst\",\"Project Manager Data Science\",\"Scientific Solution Architect - Life Science Electron Microscopy\",\"Senior Data Analyst\",\"Senior Data Engineer\",\"Senior Informatica Cloud Data Quality Specialist\",\"Senior Machine Learning Engineer - Generative AI\",\"Senior Python Developer\",\"Workplace Engineer\"],\"xaxis\":\"x\",\"y\":[3,3,3,2,6,2,3,2,3,3,3,4,3,3,3,2,3,3,2,2,2,3,4,3,2,2,2,3,3,3,2,6,2,3,2,3,3,3,4,3,3,3,2,3,3,2,2,2,3,4,3,2,2,2,3,3,3,2,6,2,3,2,3,3,3,4,3,3,3,2,3,3,2,2,2,3,4,3,2,2,2,3,3,3,2,6,2,3,2,3,3,3,4,3,3,3,2,3,3,2,2,2,3,4,3,2,2,2],\"yaxis\":\"y\",\"type\":\"scatter\"}],                        {\"template\":{\"data\":{\"histogram2dcontour\":[{\"type\":\"histogram2dcontour\",\"colorbar\":{\"outlinewidth\":0,\"ticks\":\"\"},\"colorscale\":[[0.0,\"#0d0887\"],[0.1111111111111111,\"#46039f\"],[0.2222222222222222,\"#7201a8\"],[0.3333333333333333,\"#9c179e\"],[0.4444444444444444,\"#bd3786\"],[0.5555555555555556,\"#d8576b\"],[0.6666666666666666,\"#ed7953\"],[0.7777777777777778,\"#fb9f3a\"],[0.8888888888888888,\"#fdca26\"],[1.0,\"#f0f921\"]]}],\"choropleth\":[{\"type\":\"choropleth\",\"colorbar\":{\"outlinewidth\":0,\"ticks\":\"\"}}],\"histogram2d\":[{\"type\":\"histogram2d\",\"colorbar\":{\"outlinewidth\":0,\"ticks\":\"\"},\"colorscale\":[[0.0,\"#0d0887\"],[0.1111111111111111,\"#46039f\"],[0.2222222222222222,\"#7201a8\"],[0.3333333333333333,\"#9c179e\"],[0.4444444444444444,\"#bd3786\"],[0.5555555555555556,\"#d8576b\"],[0.6666666666666666,\"#ed7953\"],[0.7777777777777778,\"#fb9f3a\"],[0.8888888888888888,\"#fdca26\"],[1.0,\"#f0f921\"]]}],\"heatmap\":[{\"type\":\"heatmap\",\"colorbar\":{\"outlinewidth\":0,\"ticks\":\"\"},\"colorscale\":[[0.0,\"#0d0887\"],[0.1111111111111111,\"#46039f\"],[0.2222222222222222,\"#7201a8\"],[0.3333333333333333,\"#9c179e\"],[0.4444444444444444,\"#bd3786\"],[0.5555555555555556,\"#d8576b\"],[0.6666666666666666,\"#ed7953\"],[0.7777777777777778,\"#fb9f3a\"],[0.8888888888888888,\"#fdca26\"],[1.0,\"#f0f921\"]]}],\"heatmapgl\":[{\"type\":\"heatmapgl\",\"colorbar\":{\"outlinewidth\":0,\"ticks\":\"\"},\"colorscale\":[[0.0,\"#0d0887\"],[0.1111111111111111,\"#46039f\"],[0.2222222222222222,\"#7201a8\"],[0.3333333333333333,\"#9c179e\"],[0.4444444444444444,\"#bd3786\"],[0.5555555555555556,\"#d8576b\"],[0.6666666666666666,\"#ed7953\"],[0.7777777777777778,\"#fb9f3a\"],[0.8888888888888888,\"#fdca26\"],[1.0,\"#f0f921\"]]}],\"contourcarpet\":[{\"type\":\"contourcarpet\",\"colorbar\":{\"outlinewidth\":0,\"ticks\":\"\"}}],\"contour\":[{\"type\":\"contour\",\"colorbar\":{\"outlinewidth\":0,\"ticks\":\"\"},\"colorscale\":[[0.0,\"#0d0887\"],[0.1111111111111111,\"#46039f\"],[0.2222222222222222,\"#7201a8\"],[0.3333333333333333,\"#9c179e\"],[0.4444444444444444,\"#bd3786\"],[0.5555555555555556,\"#d8576b\"],[0.6666666666666666,\"#ed7953\"],[0.7777777777777778,\"#fb9f3a\"],[0.8888888888888888,\"#fdca26\"],[1.0,\"#f0f921\"]]}],\"surface\":[{\"type\":\"surface\",\"colorbar\":{\"outlinewidth\":0,\"ticks\":\"\"},\"colorscale\":[[0.0,\"#0d0887\"],[0.1111111111111111,\"#46039f\"],[0.2222222222222222,\"#7201a8\"],[0.3333333333333333,\"#9c179e\"],[0.4444444444444444,\"#bd3786\"],[0.5555555555555556,\"#d8576b\"],[0.6666666666666666,\"#ed7953\"],[0.7777777777777778,\"#fb9f3a\"],[0.8888888888888888,\"#fdca26\"],[1.0,\"#f0f921\"]]}],\"mesh3d\":[{\"type\":\"mesh3d\",\"colorbar\":{\"outlinewidth\":0,\"ticks\":\"\"}}],\"scatter\":[{\"fillpattern\":{\"fillmode\":\"overlay\",\"size\":10,\"solidity\":0.2},\"type\":\"scatter\"}],\"parcoords\":[{\"type\":\"parcoords\",\"line\":{\"colorbar\":{\"outlinewidth\":0,\"ticks\":\"\"}}}],\"scatterpolargl\":[{\"type\":\"scatterpolargl\",\"marker\":{\"colorbar\":{\"outlinewidth\":0,\"ticks\":\"\"}}}],\"bar\":[{\"error_x\":{\"color\":\"#2a3f5f\"},\"error_y\":{\"color\":\"#2a3f5f\"},\"marker\":{\"line\":{\"color\":\"#E5ECF6\",\"width\":0.5},\"pattern\":{\"fillmode\":\"overlay\",\"size\":10,\"solidity\":0.2}},\"type\":\"bar\"}],\"scattergeo\":[{\"type\":\"scattergeo\",\"marker\":{\"colorbar\":{\"outlinewidth\":0,\"ticks\":\"\"}}}],\"scatterpolar\":[{\"type\":\"scatterpolar\",\"marker\":{\"colorbar\":{\"outlinewidth\":0,\"ticks\":\"\"}}}],\"histogram\":[{\"marker\":{\"pattern\":{\"fillmode\":\"overlay\",\"size\":10,\"solidity\":0.2}},\"type\":\"histogram\"}],\"scattergl\":[{\"type\":\"scattergl\",\"marker\":{\"colorbar\":{\"outlinewidth\":0,\"ticks\":\"\"}}}],\"scatter3d\":[{\"type\":\"scatter3d\",\"line\":{\"colorbar\":{\"outlinewidth\":0,\"ticks\":\"\"}},\"marker\":{\"colorbar\":{\"outlinewidth\":0,\"ticks\":\"\"}}}],\"scattermapbox\":[{\"type\":\"scattermapbox\",\"marker\":{\"colorbar\":{\"outlinewidth\":0,\"ticks\":\"\"}}}],\"scatterternary\":[{\"type\":\"scatterternary\",\"marker\":{\"colorbar\":{\"outlinewidth\":0,\"ticks\":\"\"}}}],\"scattercarpet\":[{\"type\":\"scattercarpet\",\"marker\":{\"colorbar\":{\"outlinewidth\":0,\"ticks\":\"\"}}}],\"carpet\":[{\"aaxis\":{\"endlinecolor\":\"#2a3f5f\",\"gridcolor\":\"white\",\"linecolor\":\"white\",\"minorgridcolor\":\"white\",\"startlinecolor\":\"#2a3f5f\"},\"baxis\":{\"endlinecolor\":\"#2a3f5f\",\"gridcolor\":\"white\",\"linecolor\":\"white\",\"minorgridcolor\":\"white\",\"startlinecolor\":\"#2a3f5f\"},\"type\":\"carpet\"}],\"table\":[{\"cells\":{\"fill\":{\"color\":\"#EBF0F8\"},\"line\":{\"color\":\"white\"}},\"header\":{\"fill\":{\"color\":\"#C8D4E3\"},\"line\":{\"color\":\"white\"}},\"type\":\"table\"}],\"barpolar\":[{\"marker\":{\"line\":{\"color\":\"#E5ECF6\",\"width\":0.5},\"pattern\":{\"fillmode\":\"overlay\",\"size\":10,\"solidity\":0.2}},\"type\":\"barpolar\"}],\"pie\":[{\"automargin\":true,\"type\":\"pie\"}]},\"layout\":{\"autotypenumbers\":\"strict\",\"colorway\":[\"#636efa\",\"#EF553B\",\"#00cc96\",\"#ab63fa\",\"#FFA15A\",\"#19d3f3\",\"#FF6692\",\"#B6E880\",\"#FF97FF\",\"#FECB52\"],\"font\":{\"color\":\"#2a3f5f\"},\"hovermode\":\"closest\",\"hoverlabel\":{\"align\":\"left\"},\"paper_bgcolor\":\"white\",\"plot_bgcolor\":\"#E5ECF6\",\"polar\":{\"bgcolor\":\"#E5ECF6\",\"angularaxis\":{\"gridcolor\":\"white\",\"linecolor\":\"white\",\"ticks\":\"\"},\"radialaxis\":{\"gridcolor\":\"white\",\"linecolor\":\"white\",\"ticks\":\"\"}},\"ternary\":{\"bgcolor\":\"#E5ECF6\",\"aaxis\":{\"gridcolor\":\"white\",\"linecolor\":\"white\",\"ticks\":\"\"},\"baxis\":{\"gridcolor\":\"white\",\"linecolor\":\"white\",\"ticks\":\"\"},\"caxis\":{\"gridcolor\":\"white\",\"linecolor\":\"white\",\"ticks\":\"\"}},\"coloraxis\":{\"colorbar\":{\"outlinewidth\":0,\"ticks\":\"\"}},\"colorscale\":{\"sequential\":[[0.0,\"#0d0887\"],[0.1111111111111111,\"#46039f\"],[0.2222222222222222,\"#7201a8\"],[0.3333333333333333,\"#9c179e\"],[0.4444444444444444,\"#bd3786\"],[0.5555555555555556,\"#d8576b\"],[0.6666666666666666,\"#ed7953\"],[0.7777777777777778,\"#fb9f3a\"],[0.8888888888888888,\"#fdca26\"],[1.0,\"#f0f921\"]],\"sequentialminus\":[[0.0,\"#0d0887\"],[0.1111111111111111,\"#46039f\"],[0.2222222222222222,\"#7201a8\"],[0.3333333333333333,\"#9c179e\"],[0.4444444444444444,\"#bd3786\"],[0.5555555555555556,\"#d8576b\"],[0.6666666666666666,\"#ed7953\"],[0.7777777777777778,\"#fb9f3a\"],[0.8888888888888888,\"#fdca26\"],[1.0,\"#f0f921\"]],\"diverging\":[[0,\"#8e0152\"],[0.1,\"#c51b7d\"],[0.2,\"#de77ae\"],[0.3,\"#f1b6da\"],[0.4,\"#fde0ef\"],[0.5,\"#f7f7f7\"],[0.6,\"#e6f5d0\"],[0.7,\"#b8e186\"],[0.8,\"#7fbc41\"],[0.9,\"#4d9221\"],[1,\"#276419\"]]},\"xaxis\":{\"gridcolor\":\"white\",\"linecolor\":\"white\",\"ticks\":\"\",\"title\":{\"standoff\":15},\"zerolinecolor\":\"white\",\"automargin\":true,\"zerolinewidth\":2},\"yaxis\":{\"gridcolor\":\"white\",\"linecolor\":\"white\",\"ticks\":\"\",\"title\":{\"standoff\":15},\"zerolinecolor\":\"white\",\"automargin\":true,\"zerolinewidth\":2},\"scene\":{\"xaxis\":{\"backgroundcolor\":\"#E5ECF6\",\"gridcolor\":\"white\",\"linecolor\":\"white\",\"showbackground\":true,\"ticks\":\"\",\"zerolinecolor\":\"white\",\"gridwidth\":2},\"yaxis\":{\"backgroundcolor\":\"#E5ECF6\",\"gridcolor\":\"white\",\"linecolor\":\"white\",\"showbackground\":true,\"ticks\":\"\",\"zerolinecolor\":\"white\",\"gridwidth\":2},\"zaxis\":{\"backgroundcolor\":\"#E5ECF6\",\"gridcolor\":\"white\",\"linecolor\":\"white\",\"showbackground\":true,\"ticks\":\"\",\"zerolinecolor\":\"white\",\"gridwidth\":2}},\"shapedefaults\":{\"line\":{\"color\":\"#2a3f5f\"}},\"annotationdefaults\":{\"arrowcolor\":\"#2a3f5f\",\"arrowhead\":0,\"arrowwidth\":1},\"geo\":{\"bgcolor\":\"white\",\"landcolor\":\"#E5ECF6\",\"subunitcolor\":\"white\",\"showland\":true,\"showlakes\":true,\"lakecolor\":\"white\"},\"title\":{\"x\":0.05},\"mapbox\":{\"style\":\"light\"}}},\"xaxis\":{\"anchor\":\"y\",\"domain\":[0.0,1.0],\"title\":{\"text\":\"title\"}},\"yaxis\":{\"anchor\":\"x\",\"domain\":[0.0,1.0],\"title\":{\"text\":\"value\"}},\"coloraxis\":{\"colorbar\":{\"title\":{\"text\":\"location\"}},\"colorscale\":[[0.0,\"#0d0887\"],[0.1111111111111111,\"#46039f\"],[0.2222222222222222,\"#7201a8\"],[0.3333333333333333,\"#9c179e\"],[0.4444444444444444,\"#bd3786\"],[0.5555555555555556,\"#d8576b\"],[0.6666666666666666,\"#ed7953\"],[0.7777777777777778,\"#fb9f3a\"],[0.8888888888888888,\"#fdca26\"],[1.0,\"#f0f921\"]]},\"legend\":{\"tracegroupgap\":0,\"itemsizing\":\"constant\"},\"margin\":{\"t\":60},\"title\":{\"text\":\"Jobs in different Cantons\"}},                        {\"responsive\": true}                    ).then(function(){\n",
       "                            \n",
       "var gd = document.getElementById('28ef4032-288c-41f0-8b22-60d8956b7eeb');\n",
       "var x = new MutationObserver(function (mutations, observer) {{\n",
       "        var display = window.getComputedStyle(gd).display;\n",
       "        if (!display || display === 'none') {{\n",
       "            console.log([gd, 'removed!']);\n",
       "            Plotly.purge(gd);\n",
       "            observer.disconnect();\n",
       "        }}\n",
       "}});\n",
       "\n",
       "// Listen for the removal of the full notebook cells\n",
       "var notebookContainer = gd.closest('#notebook-container');\n",
       "if (notebookContainer) {{\n",
       "    x.observe(notebookContainer, {childList: true});\n",
       "}}\n",
       "\n",
       "// Listen for the clearing of the current output cell\n",
       "var outputEl = gd.closest('.output');\n",
       "if (outputEl) {{\n",
       "    x.observe(outputEl, {childList: true});\n",
       "}}\n",
       "\n",
       "                        })                };                });            </script>        </div>"
      ]
     },
     "metadata": {},
     "output_type": "display_data"
    }
   ],
   "source": [
    "\n",
    "fig = px.scatter(grouped_data,\n",
    "                 color='location',\n",
    "                 size=\"query\",#Shape of a Marker\n",
    "                 log_x=False # Sets the scale of the x-axis into linear instead of logarithmic scael\n",
    "                )\n",
    "\n",
    "# Set the area of the bubbles proportional to the petal's length\n",
    "fig.update_traces(marker=dict(sizemode='area', sizeref=0.1))\n",
    "\n",
    "# Update layout\n",
    "fig.update_layout(title='Jobs in different Cantons')\n",
    "\n",
    "# Show plot\n",
    "fig.show()"
   ]
  },
  {
   "cell_type": "markdown",
   "metadata": {},
   "source": [
    "\n",
    "* Is “machine learning” keyword more often in data scientist or data analyst jobs?\n"
   ]
  },
  {
   "cell_type": "code",
   "execution_count": 63,
   "metadata": {},
   "outputs": [
    {
     "data": {
      "text/html": [
       "<div>\n",
       "<style scoped>\n",
       "    .dataframe tbody tr th:only-of-type {\n",
       "        vertical-align: middle;\n",
       "    }\n",
       "\n",
       "    .dataframe tbody tr th {\n",
       "        vertical-align: top;\n",
       "    }\n",
       "\n",
       "    .dataframe thead th {\n",
       "        text-align: right;\n",
       "    }\n",
       "</style>\n",
       "<table border=\"1\" class=\"dataframe\">\n",
       "  <thead>\n",
       "    <tr style=\"text-align: right;\">\n",
       "      <th></th>\n",
       "      <th>title</th>\n",
       "      <th>salary_range</th>\n",
       "      <th>company</th>\n",
       "      <th>location</th>\n",
       "      <th>date</th>\n",
       "      <th>query</th>\n",
       "      <th>url</th>\n",
       "    </tr>\n",
       "  </thead>\n",
       "  <tbody>\n",
       "    <tr>\n",
       "      <th>0</th>\n",
       "      <td>Junior Data Scientist</td>\n",
       "      <td>80 – 100%</td>\n",
       "      <td>7Days Media Services GmbH</td>\n",
       "      <td>Egerkingen</td>\n",
       "      <td>Published: 11 September 2024</td>\n",
       "      <td>Data Scientist</td>\n",
       "      <td>/en/vacancies/detail/f3f91a19-5d06-4b20-be15-c...</td>\n",
       "    </tr>\n",
       "    <tr>\n",
       "      <th>1</th>\n",
       "      <td>IT MDM Analyst Data Management</td>\n",
       "      <td>100%</td>\n",
       "      <td>Franke Group</td>\n",
       "      <td>Aarburg</td>\n",
       "      <td>Published: 21 October 2024</td>\n",
       "      <td>Data Scientist</td>\n",
       "      <td>/en/vacancies/detail/374d8592-2266-4440-9dad-d...</td>\n",
       "    </tr>\n",
       "    <tr>\n",
       "      <th>2</th>\n",
       "      <td>Intern - Technology Consulting - AI &amp; Data</td>\n",
       "      <td>100%</td>\n",
       "      <td>EY (Ernst &amp; Young AG)</td>\n",
       "      <td>Zurich</td>\n",
       "      <td>Published: 05 October 2024</td>\n",
       "      <td>Data Scientist</td>\n",
       "      <td>/en/vacancies/detail/f135255f-9e64-417c-8584-6...</td>\n",
       "    </tr>\n",
       "    <tr>\n",
       "      <th>3</th>\n",
       "      <td>Expert Monitoring &amp; Data Analytics Claims Non-...</td>\n",
       "      <td>60 – 100%</td>\n",
       "      <td>Generali Personenversicherung AG</td>\n",
       "      <td>Adliswil</td>\n",
       "      <td>Published: 14 October 2024</td>\n",
       "      <td>Data Scientist</td>\n",
       "      <td>/en/vacancies/detail/790dee41-e8e5-4d6a-b825-b...</td>\n",
       "    </tr>\n",
       "    <tr>\n",
       "      <th>4</th>\n",
       "      <td>Fachspezialist/in internes Meldewesen</td>\n",
       "      <td>100%</td>\n",
       "      <td>Kernkraftwerk Leibstadt AG</td>\n",
       "      <td>Leibstadt</td>\n",
       "      <td>Published: 23 October 2024</td>\n",
       "      <td>Data Scientist</td>\n",
       "      <td>/en/vacancies/detail/91d8d0ce-0119-444c-bca9-1...</td>\n",
       "    </tr>\n",
       "    <tr>\n",
       "      <th>...</th>\n",
       "      <td>...</td>\n",
       "      <td>...</td>\n",
       "      <td>...</td>\n",
       "      <td>...</td>\n",
       "      <td>...</td>\n",
       "      <td>...</td>\n",
       "      <td>...</td>\n",
       "    </tr>\n",
       "    <tr>\n",
       "      <th>14</th>\n",
       "      <td>Senior Data Engineer</td>\n",
       "      <td>80 – 100%</td>\n",
       "      <td>Comet AG</td>\n",
       "      <td>Flamatt</td>\n",
       "      <td>Published: 18 September 2024</td>\n",
       "      <td>Data Python</td>\n",
       "      <td>/en/vacancies/detail/a0c65b24-8ad0-4e95-b3c9-a...</td>\n",
       "    </tr>\n",
       "    <tr>\n",
       "      <th>15</th>\n",
       "      <td>Data &amp; AI Platform Engineer</td>\n",
       "      <td>80 – 100%</td>\n",
       "      <td>Migros Bank AG</td>\n",
       "      <td>Wallisellen</td>\n",
       "      <td>Published: 14 October 2024</td>\n",
       "      <td>Data Python</td>\n",
       "      <td>/en/vacancies/detail/2220c422-4a0a-4b4b-a0bb-7...</td>\n",
       "    </tr>\n",
       "    <tr>\n",
       "      <th>16</th>\n",
       "      <td>Senior Data Engineer for IoT Products</td>\n",
       "      <td>80 – 100%</td>\n",
       "      <td>Sensirion AG</td>\n",
       "      <td>Stäfa</td>\n",
       "      <td>Published: 14 October 2024</td>\n",
       "      <td>Data Python</td>\n",
       "      <td>/en/vacancies/detail/043ff5e2-3f32-4118-b41a-5...</td>\n",
       "    </tr>\n",
       "    <tr>\n",
       "      <th>17</th>\n",
       "      <td>Backend Engineer</td>\n",
       "      <td>100%</td>\n",
       "      <td>42matters AG (Similarweb company)</td>\n",
       "      <td>Zürich</td>\n",
       "      <td>Published: 11 October 2024</td>\n",
       "      <td>Data Python</td>\n",
       "      <td>/en/vacancies/detail/05e6c7bf-1f0c-42e4-9017-4...</td>\n",
       "    </tr>\n",
       "    <tr>\n",
       "      <th>18</th>\n",
       "      <td>Expert Cloud Engineer</td>\n",
       "      <td>100%</td>\n",
       "      <td></td>\n",
       "      <td>Le Chenit</td>\n",
       "      <td>Published: 23 October 2024</td>\n",
       "      <td>Data Python</td>\n",
       "      <td>/en/vacancies/detail/332ad0cc-91e3-4a72-8bc2-2...</td>\n",
       "    </tr>\n",
       "  </tbody>\n",
       "</table>\n",
       "<p>151 rows × 7 columns</p>\n",
       "</div>"
      ],
      "text/plain": [
       "                                                title salary_range  \\\n",
       "0                               Junior Data Scientist    80 – 100%   \n",
       "1                      IT MDM Analyst Data Management         100%   \n",
       "2          Intern - Technology Consulting - AI & Data         100%   \n",
       "3   Expert Monitoring & Data Analytics Claims Non-...    60 – 100%   \n",
       "4               Fachspezialist/in internes Meldewesen         100%   \n",
       "..                                                ...          ...   \n",
       "14                               Senior Data Engineer    80 – 100%   \n",
       "15                        Data & AI Platform Engineer    80 – 100%   \n",
       "16              Senior Data Engineer for IoT Products    80 – 100%   \n",
       "17                                   Backend Engineer         100%   \n",
       "18                              Expert Cloud Engineer         100%   \n",
       "\n",
       "                              company     location  \\\n",
       "0           7Days Media Services GmbH   Egerkingen   \n",
       "1                        Franke Group      Aarburg   \n",
       "2               EY (Ernst & Young AG)       Zurich   \n",
       "3    Generali Personenversicherung AG     Adliswil   \n",
       "4          Kernkraftwerk Leibstadt AG    Leibstadt   \n",
       "..                                ...          ...   \n",
       "14                           Comet AG      Flamatt   \n",
       "15                     Migros Bank AG  Wallisellen   \n",
       "16                       Sensirion AG        Stäfa   \n",
       "17  42matters AG (Similarweb company)       Zürich   \n",
       "18                                       Le Chenit   \n",
       "\n",
       "                            date           query  \\\n",
       "0   Published: 11 September 2024  Data Scientist   \n",
       "1     Published: 21 October 2024  Data Scientist   \n",
       "2     Published: 05 October 2024  Data Scientist   \n",
       "3     Published: 14 October 2024  Data Scientist   \n",
       "4     Published: 23 October 2024  Data Scientist   \n",
       "..                           ...             ...   \n",
       "14  Published: 18 September 2024     Data Python   \n",
       "15    Published: 14 October 2024     Data Python   \n",
       "16    Published: 14 October 2024     Data Python   \n",
       "17    Published: 11 October 2024     Data Python   \n",
       "18    Published: 23 October 2024     Data Python   \n",
       "\n",
       "                                                  url  \n",
       "0   /en/vacancies/detail/f3f91a19-5d06-4b20-be15-c...  \n",
       "1   /en/vacancies/detail/374d8592-2266-4440-9dad-d...  \n",
       "2   /en/vacancies/detail/f135255f-9e64-417c-8584-6...  \n",
       "3   /en/vacancies/detail/790dee41-e8e5-4d6a-b825-b...  \n",
       "4   /en/vacancies/detail/91d8d0ce-0119-444c-bca9-1...  \n",
       "..                                                ...  \n",
       "14  /en/vacancies/detail/a0c65b24-8ad0-4e95-b3c9-a...  \n",
       "15  /en/vacancies/detail/2220c422-4a0a-4b4b-a0bb-7...  \n",
       "16  /en/vacancies/detail/043ff5e2-3f32-4118-b41a-5...  \n",
       "17  /en/vacancies/detail/05e6c7bf-1f0c-42e4-9017-4...  \n",
       "18  /en/vacancies/detail/332ad0cc-91e3-4a72-8bc2-2...  \n",
       "\n",
       "[151 rows x 7 columns]"
      ]
     },
     "execution_count": 63,
     "metadata": {},
     "output_type": "execute_result"
    }
   ],
   "source": [
    "# Select the rows where the job title contains 'data scientist' or 'data analyst'\n",
    "#na_counts = df.isna().sum()\n",
    "#na_counts\n",
    "# na_counts = \n",
    "df.dropna()\n",
    "\n"
   ]
  }
 ],
 "metadata": {
  "kernelspec": {
   "display_name": "Python 3",
   "language": "python",
   "name": "python3"
  },
  "language_info": {
   "codemirror_mode": {
    "name": "ipython",
    "version": 3
   },
   "file_extension": ".py",
   "mimetype": "text/x-python",
   "name": "python",
   "nbconvert_exporter": "python",
   "pygments_lexer": "ipython3",
   "version": "3.12.6"
  }
 },
 "nbformat": 4,
 "nbformat_minor": 2
}
